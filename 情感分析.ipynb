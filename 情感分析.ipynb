{
 "cells": [
  {
   "attachments": {
    "image.png": {
     "image/png": "[encoded data removed]"
    }
   },
   "cell_type": "markdown",
   "metadata": {},
   "source": [
    "# 自然语言处理基础\n",
    "\n",
    "## 自然语言概念\n",
    "自然语言，即我们人类日常所使用的语言，是人类交际的重要方式，也是人类区别于其他动物的本质特征。  \n",
    "我们只能使用自然语言与人进行交流，而无法与计算机进行交流。\n",
    "\n",
    "## 自然语言处理\n",
    "自然语言处理（NLP Natural Language Processing），是人工智能（AI Artificial Intelligence）的一部分，实现人与计算机之间的有效通信。  \n",
    "自然语言处理属于计算机科学领域与人工智能领域，其研究使用计算机编程来处理与理解人类的语言。\n",
    "\n",
    "## 应用场景\n",
    "自然语言处理，具有非常广泛的应用场景，例如：\n",
    "* 情感分析\n",
    "* 机器翻译\n",
    "* 文本相似度匹配\n",
    "* 智能客服\n",
    "\n",
    "## 通用技术\n",
    "* 分词\n",
    "* 停用词过滤\n",
    "* 词干提取\n",
    "* 词形还原\n",
    "* 词袋模型\n",
    "* TF-IDF\n",
    "* Word2Vec\n",
    "\n",
    "说明：  \n",
    "scikit-learn库中实现的tf-idf转换，与标准的公式略有不同。并且，tf-idf结果会使用L2范数进行规范化处理。\n",
    "![image.png](attachment:image.png)"
   ]
  },
  {
   "cell_type": "code",
   "execution_count": 15,
   "metadata": {},
   "outputs": [
    {
     "name": "stdout",
     "output_type": "stream",
     "text": [
      "{'where': 8, 'there': 5, 'is': 0, 'will': 9, 'way': 7, 'no': 2, 'royal': 4, 'road': 3, 'to': 6, 'learning': 1}\n",
      "[[2 0 0 0 0 2 0 1 1 1]\n",
      " [1 1 1 1 1 1 1 0 0 0]]\n"
     ]
    }
   ],
   "source": [
    "import numpy as np\n",
    "# 对语料库中出现的词汇进行词频统计，相当于词袋模型。\n",
    "# 操作方式：将语料库当中出现的词汇作为特征，将词汇在当前文档中出现的频率（次数）\n",
    "# 作为特征值。\n",
    "from sklearn.feature_extraction.text import CountVectorizer\n",
    "count = CountVectorizer()\n",
    "# 语料库\n",
    "docs = np.array([\n",
    "    \"Where there is a will, there is a way.\",\n",
    "    \"There is no royal road to learning.\",\n",
    "])\n",
    "# bag是一个稀疏的矩阵。因为词袋模型就是一种稀疏的表示。\n",
    "bag = count.fit_transform(docs)\n",
    "# 输出单词与编号的映射关系。\n",
    "print(count.vocabulary_)\n",
    "# 调用稀疏矩阵的toarray方法，将稀疏矩阵转换为ndarray对象。\n",
    "print(bag.toarray())"
   ]
  },
  {
   "cell_type": "code",
   "execution_count": 16,
   "metadata": {
    "scrolled": false
   },
   "outputs": [
    {
     "name": "stdout",
     "output_type": "stream",
     "text": [
      "[[0.53594084 0.         0.         0.         0.         0.53594084\n",
      "  0.         0.37662308 0.37662308 0.37662308]\n",
      " [0.29017021 0.4078241  0.4078241  0.4078241  0.4078241  0.29017021\n",
      "  0.4078241  0.         0.         0.        ]]\n"
     ]
    }
   ],
   "source": [
    "# 将词袋模型转换为tf-idf值。\n",
    "from sklearn.feature_extraction.text import TfidfTransformer\n",
    "tfidf = TfidfTransformer()\n",
    "print(tfidf.fit_transform(count.fit_transform(docs)).toarray())"
   ]
  },
  {
   "cell_type": "markdown",
   "metadata": {},
   "source": [
    "# XX评论情感分析"
   ]
  },
  {
   "cell_type": "markdown",
   "metadata": {},
   "source": [
    "## 项目背景\n",
    "公司活动，新闻，微博，影评，商品评价等。"
   ]
  },
  {
   "cell_type": "markdown",
   "metadata": {},
   "source": [
    "## 加载数据集"
   ]
  },
  {
   "cell_type": "code",
   "execution_count": 17,
   "metadata": {
    "scrolled": false
   },
   "outputs": [
    {
     "data": {
      "text/html": [
       "<div>\n",
       "<style scoped>\n",
       "    .dataframe tbody tr th:only-of-type {\n",
       "        vertical-align: middle;\n",
       "    }\n",
       "\n",
       "    .dataframe tbody tr th {\n",
       "        vertical-align: top;\n",
       "    }\n",
       "\n",
       "    .dataframe thead th {\n",
       "        text-align: right;\n",
       "    }\n",
       "</style>\n",
       "<table border=\"1\" class=\"dataframe\">\n",
       "  <thead>\n",
       "    <tr style=\"text-align: right;\">\n",
       "      <th></th>\n",
       "      <th>label</th>\n",
       "      <th>comment</th>\n",
       "    </tr>\n",
       "  </thead>\n",
       "  <tbody>\n",
       "    <tr>\n",
       "      <th>0</th>\n",
       "      <td>pos</td>\n",
       "      <td>此英雄完全自给自足，没有任何超能力，自己造就自己，酷！科技以人为本，发展才是硬道理！</td>\n",
       "    </tr>\n",
       "    <tr>\n",
       "      <th>1</th>\n",
       "      <td>pos</td>\n",
       "      <td>如果一个男人嫌女人太聪明了，那一定是因为他自己还不够牛逼</td>\n",
       "    </tr>\n",
       "    <tr>\n",
       "      <th>2</th>\n",
       "      <td>pos</td>\n",
       "      <td>这是一个会搞笑，爱臭屁又喋喋不休的英雄噢！结尾那句“I am Iron Man”太帅了~~</td>\n",
       "    </tr>\n",
       "    <tr>\n",
       "      <th>3</th>\n",
       "      <td>pos</td>\n",
       "      <td>没想到会比这侠那侠的都要好看！2个多小时的片子并不觉长，紧凑，爽快，意犹未尽……</td>\n",
       "    </tr>\n",
       "    <tr>\n",
       "      <th>4</th>\n",
       "      <td>pos</td>\n",
       "      <td>想起一个人，铁臂阿木童.</td>\n",
       "    </tr>\n",
       "  </tbody>\n",
       "</table>\n",
       "</div>"
      ],
      "text/plain": [
       "  label                                         comment\n",
       "0   pos      此英雄完全自给自足，没有任何超能力，自己造就自己，酷！科技以人为本，发展才是硬道理！\n",
       "1   pos                    如果一个男人嫌女人太聪明了，那一定是因为他自己还不够牛逼\n",
       "2   pos   这是一个会搞笑，爱臭屁又喋喋不休的英雄噢！结尾那句“I am Iron Man”太帅了~~\n",
       "3   pos        没想到会比这侠那侠的都要好看！2个多小时的片子并不觉长，紧凑，爽快，意犹未尽……\n",
       "4   pos                                    想起一个人，铁臂阿木童."
      ]
     },
     "execution_count": 17,
     "metadata": {},
     "output_type": "execute_result"
    }
   ],
   "source": [
    "import pandas as pd\n",
    "import numpy as np\n",
    "\n",
    "data = pd.read_csv(r\"movie.csv\")\n",
    "data.head()"
   ]
  },
  {
   "cell_type": "markdown",
   "metadata": {},
   "source": [
    "## 数据预处理\n",
    "### 数据清洗"
   ]
  },
  {
   "cell_type": "code",
   "execution_count": 18,
   "metadata": {
    "scrolled": true
   },
   "outputs": [
    {
     "data": {
      "text/plain": [
       "label      0\n",
       "comment    0\n",
       "dtype: int64"
      ]
     },
     "execution_count": 18,
     "metadata": {},
     "output_type": "execute_result"
    }
   ],
   "source": [
    "# 缺失值探索。\n",
    "data.isnull().sum(axis=0)"
   ]
  },
  {
   "cell_type": "code",
   "execution_count": 19,
   "metadata": {},
   "outputs": [
    {
     "data": {
      "text/plain": [
       "pos    11628\n",
       "neg     3943\n",
       "Name: label, dtype: int64"
      ]
     },
     "execution_count": 19,
     "metadata": {},
     "output_type": "execute_result"
    }
   ],
   "source": [
    "# 异常值探索。\n",
    "data[\"label\"].value_counts()"
   ]
  },
  {
   "cell_type": "code",
   "execution_count": 21,
   "metadata": {},
   "outputs": [],
   "source": [
    "# 重复值\n",
    "# data.duplicated().sum()\n",
    "# data[data.duplicated()]\n",
    "data.drop_duplicates(inplace=True)"
   ]
  },
  {
   "cell_type": "markdown",
   "metadata": {},
   "source": [
    "### 数据转换\n",
    "将label与comment列转换为数值类型。"
   ]
  },
  {
   "cell_type": "code",
   "execution_count": 22,
   "metadata": {},
   "outputs": [],
   "source": [
    "data[\"label\"] = data[\"label\"].map({\"pos\": 1, \"neg\": 0})"
   ]
  },
  {
   "cell_type": "code",
   "execution_count": 23,
   "metadata": {},
   "outputs": [
    {
     "data": {
      "text/plain": [
       "1    11555\n",
       "0     3928\n",
       "Name: label, dtype: int64"
      ]
     },
     "execution_count": 23,
     "metadata": {},
     "output_type": "execute_result"
    }
   ],
   "source": [
    "data[\"label\"].value_counts()"
   ]
  },
  {
   "cell_type": "code",
   "execution_count": 27,
   "metadata": {},
   "outputs": [
    {
     "data": {
      "text/plain": [
       "['我们', '来', '学习', '自然语言', '处理', '。']"
      ]
     },
     "execution_count": 27,
     "metadata": {},
     "output_type": "execute_result"
    }
   ],
   "source": [
    "import jieba\n",
    "# list(jieba.cut(\"我们来学习自然语言处理。\"))\n",
    "jieba.lcut(\"我们来学习自然语言处理。\")"
   ]
  },
  {
   "cell_type": "code",
   "execution_count": 28,
   "metadata": {},
   "outputs": [],
   "source": [
    "# 用于进行中文分词的库。安装：\n",
    "# pip install jieba\n",
    "\n",
    "import jieba\n",
    "import re\n",
    "\n",
    "# 获取停用词列表\n",
    "def get_stopword():\n",
    "    # 默认情况下，在读取文件时，双引号会被解析为特殊的引用符号。双引号中的内容会正确解析，但是双引号不会解析为文本内容。\n",
    "    # 在这种情况下，如果文本中仅含有一个双引号，会产生解析错误。如果需要将双引号作为普通的字符解析，将quoting参数设置为3。\n",
    "    stopword = pd.read_csv(r\"stopword.txt\", header=None, quoting=3, sep=\"a\")\n",
    "    # 转换为set，这样可以比list具有更快的查询速度。\n",
    "    return set(stopword[0].tolist())\n",
    "\n",
    "# 清洗文本数据\n",
    "def clear(text):\n",
    "    return re.sub(\"[\\s+\\.\\!\\/_,$%^*(+\\\"\\']+|[+——！，。？、~@#￥%……&*（）]+\", \"\", text)\n",
    "    \n",
    "# 进行分词的函数。\n",
    "def cut_word(text):\n",
    "    return jieba.cut(text)\n",
    "\n",
    "# 去掉停用词函数。\n",
    "def remove_stopword(words):\n",
    "    # 获取停用词列表。\n",
    "    stopword = get_stopword()\n",
    "    return [word for word in words if word not in stopword]\n",
    "\n",
    "def preprocess(text):\n",
    "    # 文本清洗。\n",
    "    text = clear(text)\n",
    "    # 分词。\n",
    "    word_iter = cut_word(text)\n",
    "    # 去除停用词。\n",
    "    word_list = remove_stopword(word_iter)\n",
    "    return \" \".join(word_list)\n",
    "\n",
    "# 对文本数据（评论数据）的处理。步骤：\n",
    "# 1 文本清洗。去掉一些特殊无用的符号，例如@，#。\n",
    "# 2 分词，将文本分解为若干单词。\n",
    "# 3 去除停用词。\n",
    "\n",
    "# 以上步骤通过调用preprocess方法来实现。\n",
    "data[\"comment\"] = data[\"comment\"].apply(lambda text: preprocess(text))"
   ]
  },
  {
   "cell_type": "code",
   "execution_count": 29,
   "metadata": {},
   "outputs": [
    {
     "data": {
      "text/plain": [
       "0             英雄 自给自足 超能力 造就 酷 科技 以人为本 发展 硬道理\n",
       "1                        男人 嫌 女人 太 聪明 是因为 牛 逼\n",
       "2    这是 搞笑 爱 臭屁 喋喋不休 英雄 噢 结尾 那句 IamIronMan 太帅\n",
       "3         没想到 这侠 那侠 要好看 小时 片子 不觉 长 紧凑 爽快 意犹未尽\n",
       "4                                   想起 铁臂 阿木童\n",
       "Name: comment, dtype: object"
      ]
     },
     "execution_count": 29,
     "metadata": {},
     "output_type": "execute_result"
    }
   ],
   "source": [
    "# 调用cut方法可以对文本进行分词，返回结果。cut方法返回的是生成器对象。\n",
    "# jieba.cut(\"今天我们学习自然语言处理。\")\n",
    "# lcut方法返回的是列表。\n",
    "# jieba.lcut(\"今天我们学习自然语言处理。\")\n",
    "data[\"comment\"].head()"
   ]
  },
  {
   "cell_type": "code",
   "execution_count": 31,
   "metadata": {},
   "outputs": [
    {
     "data": {
      "text/plain": [
       "array([[0., 0., 0., ..., 0., 0., 0.],\n",
       "       [0., 0., 0., ..., 0., 0., 0.],\n",
       "       [0., 0., 0., ..., 0., 0., 0.],\n",
       "       ...,\n",
       "       [0., 0., 0., ..., 0., 0., 0.],\n",
       "       [0., 0., 0., ..., 0., 0., 0.],\n",
       "       [0., 0., 0., ..., 0., 0., 0.]])"
      ]
     },
     "execution_count": 31,
     "metadata": {},
     "output_type": "execute_result"
    }
   ],
   "source": [
    "# 使用TfidfVectorizer来进行文本向量化，具有一个局限（不足）：就是语料库中存在多少个单词，就会具有多少个特征，\n",
    "# 这样会造成特征矩阵非常庞大，矩阵非常稀疏。\n",
    "from sklearn.feature_extraction.text import TfidfVectorizer\n",
    "tfidf = TfidfVectorizer()\n",
    "tfidf.fit_transform(data[\"comment\"].tolist()).toarray()"
   ]
  },
  {
   "cell_type": "code",
   "execution_count": null,
   "metadata": {},
   "outputs": [],
   "source": [
    "data[\"comment\"]"
   ]
  },
  {
   "cell_type": "code",
   "execution_count": 33,
   "metadata": {
    "scrolled": true
   },
   "outputs": [
    {
     "name": "stdout",
     "output_type": "stream",
     "text": [
      "0.8405959352394075\n",
      "0.672436063032808\n",
      "              precision    recall  f1-score   support\n",
      "\n",
      "           0       0.40      0.51      0.45      1004\n",
      "           1       0.81      0.73      0.77      2867\n",
      "\n",
      "   micro avg       0.67      0.67      0.67      3871\n",
      "   macro avg       0.60      0.62      0.61      3871\n",
      "weighted avg       0.70      0.67      0.68      3871\n",
      "\n"
     ]
    }
   ],
   "source": [
    "from sklearn.feature_extraction.text import TfidfVectorizer\n",
    "from sklearn.model_selection import train_test_split\n",
    "from sklearn.linear_model import LogisticRegression\n",
    "from sklearn.pipeline import Pipeline\n",
    "from sklearn.metrics import classification_report\n",
    "\n",
    "X_train, X_test, y_train, y_test = train_test_split(data[\"comment\"], data[\"label\"], test_size=0.25, random_state=0)\n",
    "# TfidfVectorizer可以看做是CountVectorizer与TfidfTransformer两个类型的合体。\n",
    "tfidf = TfidfVectorizer()\n",
    "lr = LogisticRegression(class_weight=\"balanced\")\n",
    "# lr = LogisticRegression()\n",
    "steps = [(\"tfidf\", tfidf), (\"model\", lr)]\n",
    "pipe = Pipeline(steps=steps)\n",
    "pipe.fit(X_train, y_train)\n",
    "y_hat = pipe.predict(X_test)\n",
    "print(pipe.score(X_train, y_train))\n",
    "print(pipe.score(X_test, y_test))\n",
    "print(classification_report(y_test, y_hat))"
   ]
  },
  {
   "cell_type": "code",
   "execution_count": 34,
   "metadata": {},
   "outputs": [
    {
     "name": "stdout",
     "output_type": "stream",
     "text": [
      "1    2867\n",
      "0    1004\n",
      "Name: label, dtype: int64\n",
      "1    2585\n",
      "0    1286\n",
      "dtype: int64\n"
     ]
    }
   ],
   "source": [
    "print(pd.Series(y_test).value_counts())\n",
    "print(pd.Series(y_hat).value_counts())"
   ]
  },
  {
   "cell_type": "code",
   "execution_count": 35,
   "metadata": {
    "scrolled": true
   },
   "outputs": [
    {
     "name": "stdout",
     "output_type": "stream",
     "text": [
      "0.9886324491904926\n",
      "0.706277447687936\n",
      "              precision    recall  f1-score   support\n",
      "\n",
      "           0       0.38      0.22      0.28      1004\n",
      "           1       0.76      0.88      0.82      2867\n",
      "\n",
      "   micro avg       0.71      0.71      0.71      3871\n",
      "   macro avg       0.57      0.55      0.55      3871\n",
      "weighted avg       0.66      0.71      0.68      3871\n",
      "\n"
     ]
    }
   ],
   "source": [
    "from sklearn.ensemble import RandomForestClassifier\n",
    "\n",
    "rf = RandomForestClassifier(n_estimators=100, n_jobs=-1, class_weight=\"balanced\")\n",
    "# rf = RandomForestClassifier(n_estimators=100, n_jobs=-1)\n",
    "pipe.set_params(model=rf)\n",
    "pipe.fit(X_train, y_train)\n",
    "y_hat = pipe.predict(X_test)\n",
    "print(pipe.score(X_train, y_train))\n",
    "print(pipe.score(X_test, y_test))\n",
    "print(classification_report(y_test, y_hat))"
   ]
  },
  {
   "cell_type": "code",
   "execution_count": 36,
   "metadata": {
    "scrolled": false
   },
   "outputs": [
    {
     "name": "stdout",
     "output_type": "stream",
     "text": [
      "0.9711505339304168\n",
      "0.7075691035908034\n",
      "              precision    recall  f1-score   support\n",
      "\n",
      "           0       0.40      0.27      0.32      1004\n",
      "           1       0.77      0.86      0.81      2867\n",
      "\n",
      "   micro avg       0.71      0.71      0.71      3871\n",
      "   macro avg       0.59      0.57      0.57      3871\n",
      "weighted avg       0.68      0.71      0.69      3871\n",
      "\n"
     ]
    }
   ],
   "source": [
    "from sklearn.ensemble import BaggingClassifier\n",
    "from sklearn.tree import DecisionTreeClassifier\n",
    "\n",
    "b = BaggingClassifier(base_estimator=DecisionTreeClassifier(), n_estimators=10, n_jobs=-1)\n",
    "pipe.set_params(model=b)\n",
    "pipe.fit(X_train, y_train)\n",
    "y_hat = pipe.predict(X_test)\n",
    "print(pipe.score(X_train, y_train))\n",
    "print(pipe.score(X_test, y_test))\n",
    "print(classification_report(y_test, y_hat))"
   ]
  },
  {
   "cell_type": "code",
   "execution_count": 37,
   "metadata": {
    "scrolled": false
   },
   "outputs": [
    {
     "name": "stdout",
     "output_type": "stream",
     "text": [
      "0.7695487426799862\n",
      "0.7377938517179023\n",
      "              precision    recall  f1-score   support\n",
      "\n",
      "           0       0.48      0.13      0.21      1004\n",
      "           1       0.76      0.95      0.84      2867\n",
      "\n",
      "   micro avg       0.74      0.74      0.74      3871\n",
      "   macro avg       0.62      0.54      0.52      3871\n",
      "weighted avg       0.69      0.74      0.68      3871\n",
      "\n"
     ]
    }
   ],
   "source": [
    "from sklearn.ensemble import AdaBoostClassifier\n",
    "\n",
    "ada = AdaBoostClassifier(base_estimator=DecisionTreeClassifier(max_depth=1), n_estimators=100)\n",
    "pipe.set_params(model=ada)\n",
    "pipe.fit(X_train, y_train)\n",
    "y_hat = pipe.predict(X_test)\n",
    "print(pipe.score(X_train, y_train))\n",
    "print(pipe.score(X_test, y_test))\n",
    "print(classification_report(y_test, y_hat))"
   ]
  }
 ],
 "metadata": {
  "kernelspec": {
   "display_name": "Python 3",
   "language": "python",
   "name": "python3"
  },
  "language_info": {
   "codemirror_mode": {
    "name": "ipython",
    "version": 3
   },
   "file_extension": ".py",
   "mimetype": "text/x-python",
   "name": "python",
   "nbconvert_exporter": "python",
   "pygments_lexer": "ipython3",
   "version": "3.7.1"
  }
 },
 "nbformat": 4,
 "nbformat_minor": 2
}
