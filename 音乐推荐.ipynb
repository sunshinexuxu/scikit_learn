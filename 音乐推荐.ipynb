{
 "cells": [
  {
   "cell_type": "markdown",
   "metadata": {},
   "source": [
    "# XX网音乐推荐服务\n",
    "## 项目背景\n",
    "当前，很多网站提供在线播放音乐的功能。在线音乐可以令用户方便的收听自己感兴趣的曲目而无需进行下载。并且，网站也提供音乐播放列表的功能，用户可以将自己感兴趣的音乐存入播放列表中，方便下次进行收听。  \n",
    "然而，用户播放音乐时，往往都是主动进行搜索的。网站的资源非常丰富，可能收藏很多用户感兴趣的曲目，但是受限于用户对曲目了解的广泛度，很多曲目用户未能发现，网站也因此错误了很多吸引用户的机会。  \n",
    "\n",
    "## 项目实现\n",
    "项目的目的在于，可以根据用户创建播放列表中的曲目（曲目名称以及艺人名称），去建立模型，进而可以根据现有的艺人与曲目信息，与网站现有的曲目进行匹配，自动推断出用户最可能感兴趣的曲目，从而达到吸引顾客，防止顾客流失，增加网站流量等目的。\n",
    "\n",
    "## 扩展联想\n",
    "该实现可以用于各种推荐的场景，而不限于音乐推荐。例如，小说，新闻，图书，广告推荐等。"
   ]
  },
  {
   "cell_type": "markdown",
   "metadata": {},
   "source": [
    "## 数据集说明\n",
    "数据集中含有4个特征，分别为：\n",
    "* user_id 用户ID编号\n",
    "* artistname 艺人名称\n",
    "* trackname 曲目名称\n",
    "* playlistname 播放列表名称"
   ]
  },
  {
   "cell_type": "markdown",
   "metadata": {},
   "source": [
    "## 导入需要的库"
   ]
  },
  {
   "cell_type": "code",
   "execution_count": 1,
   "metadata": {},
   "outputs": [],
   "source": [
    "import gensim\n",
    "import pandas as pd\n",
    "import math\n",
    "import numpy as np\n",
    "from sklearn.manifold import TSNE\n",
    "import matplotlib.pyplot as plt\n",
    "import re\n",
    "import random"
   ]
  },
  {
   "cell_type": "markdown",
   "metadata": {},
   "source": [
    "## 数据加载与处理\n",
    "如果直接读取数据集文件，会产生错误，其原因在于：\n",
    "* 部分字段的文本信息中含有,分隔符，使用\"将每个字段进行引用（\"中的内容不会解析为分隔符）。  \n",
    "* 但是，字段中的文本内容同样存在\"，因此结构不当，造成解析错误。"
   ]
  },
  {
   "cell_type": "code",
   "execution_count": 2,
   "metadata": {
    "scrolled": false
   },
   "outputs": [
    {
     "ename": "ParserError",
     "evalue": "Error tokenizing data. C error: Expected 4 fields in line 15931, saw 6\n",
     "output_type": "error",
     "traceback": [
      "\u001b[1;31m---------------------------------------------------------------------------\u001b[0m",
      "\u001b[1;31mParserError\u001b[0m                               Traceback (most recent call last)",
      "\u001b[1;32m<ipython-input-2-7c9785bf846d>\u001b[0m in \u001b[0;36m<module>\u001b[1;34m()\u001b[0m\n\u001b[0;32m      1\u001b[0m \u001b[0mfile_name\u001b[0m \u001b[1;33m=\u001b[0m \u001b[1;34m\"playlist.csv\"\u001b[0m\u001b[1;33m\u001b[0m\u001b[0m\n\u001b[1;32m----> 2\u001b[1;33m \u001b[0msongs\u001b[0m \u001b[1;33m=\u001b[0m \u001b[0mpd\u001b[0m\u001b[1;33m.\u001b[0m\u001b[0mread_csv\u001b[0m\u001b[1;33m(\u001b[0m\u001b[0mfile_name\u001b[0m\u001b[1;33m)\u001b[0m\u001b[1;33m\u001b[0m\u001b[0m\n\u001b[0m",
      "\u001b[1;32md:\\Anaconda3\\lib\\site-packages\\pandas\\io\\parsers.py\u001b[0m in \u001b[0;36mparser_f\u001b[1;34m(filepath_or_buffer, sep, delimiter, header, names, index_col, usecols, squeeze, prefix, mangle_dupe_cols, dtype, engine, converters, true_values, false_values, skipinitialspace, skiprows, nrows, na_values, keep_default_na, na_filter, verbose, skip_blank_lines, parse_dates, infer_datetime_format, keep_date_col, date_parser, dayfirst, iterator, chunksize, compression, thousands, decimal, lineterminator, quotechar, quoting, escapechar, comment, encoding, dialect, tupleize_cols, error_bad_lines, warn_bad_lines, skipfooter, doublequote, delim_whitespace, low_memory, memory_map, float_precision)\u001b[0m\n\u001b[0;32m    676\u001b[0m                     skip_blank_lines=skip_blank_lines)\n\u001b[0;32m    677\u001b[0m \u001b[1;33m\u001b[0m\u001b[0m\n\u001b[1;32m--> 678\u001b[1;33m         \u001b[1;32mreturn\u001b[0m \u001b[0m_read\u001b[0m\u001b[1;33m(\u001b[0m\u001b[0mfilepath_or_buffer\u001b[0m\u001b[1;33m,\u001b[0m \u001b[0mkwds\u001b[0m\u001b[1;33m)\u001b[0m\u001b[1;33m\u001b[0m\u001b[0m\n\u001b[0m\u001b[0;32m    679\u001b[0m \u001b[1;33m\u001b[0m\u001b[0m\n\u001b[0;32m    680\u001b[0m     \u001b[0mparser_f\u001b[0m\u001b[1;33m.\u001b[0m\u001b[0m__name__\u001b[0m \u001b[1;33m=\u001b[0m \u001b[0mname\u001b[0m\u001b[1;33m\u001b[0m\u001b[0m\n",
      "\u001b[1;32md:\\Anaconda3\\lib\\site-packages\\pandas\\io\\parsers.py\u001b[0m in \u001b[0;36m_read\u001b[1;34m(filepath_or_buffer, kwds)\u001b[0m\n\u001b[0;32m    444\u001b[0m \u001b[1;33m\u001b[0m\u001b[0m\n\u001b[0;32m    445\u001b[0m     \u001b[1;32mtry\u001b[0m\u001b[1;33m:\u001b[0m\u001b[1;33m\u001b[0m\u001b[0m\n\u001b[1;32m--> 446\u001b[1;33m         \u001b[0mdata\u001b[0m \u001b[1;33m=\u001b[0m \u001b[0mparser\u001b[0m\u001b[1;33m.\u001b[0m\u001b[0mread\u001b[0m\u001b[1;33m(\u001b[0m\u001b[0mnrows\u001b[0m\u001b[1;33m)\u001b[0m\u001b[1;33m\u001b[0m\u001b[0m\n\u001b[0m\u001b[0;32m    447\u001b[0m     \u001b[1;32mfinally\u001b[0m\u001b[1;33m:\u001b[0m\u001b[1;33m\u001b[0m\u001b[0m\n\u001b[0;32m    448\u001b[0m         \u001b[0mparser\u001b[0m\u001b[1;33m.\u001b[0m\u001b[0mclose\u001b[0m\u001b[1;33m(\u001b[0m\u001b[1;33m)\u001b[0m\u001b[1;33m\u001b[0m\u001b[0m\n",
      "\u001b[1;32md:\\Anaconda3\\lib\\site-packages\\pandas\\io\\parsers.py\u001b[0m in \u001b[0;36mread\u001b[1;34m(self, nrows)\u001b[0m\n\u001b[0;32m   1034\u001b[0m                 \u001b[1;32mraise\u001b[0m \u001b[0mValueError\u001b[0m\u001b[1;33m(\u001b[0m\u001b[1;34m'skipfooter not supported for iteration'\u001b[0m\u001b[1;33m)\u001b[0m\u001b[1;33m\u001b[0m\u001b[0m\n\u001b[0;32m   1035\u001b[0m \u001b[1;33m\u001b[0m\u001b[0m\n\u001b[1;32m-> 1036\u001b[1;33m         \u001b[0mret\u001b[0m \u001b[1;33m=\u001b[0m \u001b[0mself\u001b[0m\u001b[1;33m.\u001b[0m\u001b[0m_engine\u001b[0m\u001b[1;33m.\u001b[0m\u001b[0mread\u001b[0m\u001b[1;33m(\u001b[0m\u001b[0mnrows\u001b[0m\u001b[1;33m)\u001b[0m\u001b[1;33m\u001b[0m\u001b[0m\n\u001b[0m\u001b[0;32m   1037\u001b[0m \u001b[1;33m\u001b[0m\u001b[0m\n\u001b[0;32m   1038\u001b[0m         \u001b[1;31m# May alter columns / col_dict\u001b[0m\u001b[1;33m\u001b[0m\u001b[1;33m\u001b[0m\u001b[0m\n",
      "\u001b[1;32md:\\Anaconda3\\lib\\site-packages\\pandas\\io\\parsers.py\u001b[0m in \u001b[0;36mread\u001b[1;34m(self, nrows)\u001b[0m\n\u001b[0;32m   1846\u001b[0m     \u001b[1;32mdef\u001b[0m \u001b[0mread\u001b[0m\u001b[1;33m(\u001b[0m\u001b[0mself\u001b[0m\u001b[1;33m,\u001b[0m \u001b[0mnrows\u001b[0m\u001b[1;33m=\u001b[0m\u001b[1;32mNone\u001b[0m\u001b[1;33m)\u001b[0m\u001b[1;33m:\u001b[0m\u001b[1;33m\u001b[0m\u001b[0m\n\u001b[0;32m   1847\u001b[0m         \u001b[1;32mtry\u001b[0m\u001b[1;33m:\u001b[0m\u001b[1;33m\u001b[0m\u001b[0m\n\u001b[1;32m-> 1848\u001b[1;33m             \u001b[0mdata\u001b[0m \u001b[1;33m=\u001b[0m \u001b[0mself\u001b[0m\u001b[1;33m.\u001b[0m\u001b[0m_reader\u001b[0m\u001b[1;33m.\u001b[0m\u001b[0mread\u001b[0m\u001b[1;33m(\u001b[0m\u001b[0mnrows\u001b[0m\u001b[1;33m)\u001b[0m\u001b[1;33m\u001b[0m\u001b[0m\n\u001b[0m\u001b[0;32m   1849\u001b[0m         \u001b[1;32mexcept\u001b[0m \u001b[0mStopIteration\u001b[0m\u001b[1;33m:\u001b[0m\u001b[1;33m\u001b[0m\u001b[0m\n\u001b[0;32m   1850\u001b[0m             \u001b[1;32mif\u001b[0m \u001b[0mself\u001b[0m\u001b[1;33m.\u001b[0m\u001b[0m_first_chunk\u001b[0m\u001b[1;33m:\u001b[0m\u001b[1;33m\u001b[0m\u001b[0m\n",
      "\u001b[1;32mpandas\\_libs\\parsers.pyx\u001b[0m in \u001b[0;36mpandas._libs.parsers.TextReader.read\u001b[1;34m()\u001b[0m\n",
      "\u001b[1;32mpandas\\_libs\\parsers.pyx\u001b[0m in \u001b[0;36mpandas._libs.parsers.TextReader._read_low_memory\u001b[1;34m()\u001b[0m\n",
      "\u001b[1;32mpandas\\_libs\\parsers.pyx\u001b[0m in \u001b[0;36mpandas._libs.parsers.TextReader._read_rows\u001b[1;34m()\u001b[0m\n",
      "\u001b[1;32mpandas\\_libs\\parsers.pyx\u001b[0m in \u001b[0;36mpandas._libs.parsers.TextReader._tokenize_rows\u001b[1;34m()\u001b[0m\n",
      "\u001b[1;32mpandas\\_libs\\parsers.pyx\u001b[0m in \u001b[0;36mpandas._libs.parsers.raise_parser_error\u001b[1;34m()\u001b[0m\n",
      "\u001b[1;31mParserError\u001b[0m: Error tokenizing data. C error: Expected 4 fields in line 15931, saw 6\n"
     ]
    }
   ],
   "source": [
    "# 出现错误，错误的原因在于文件当中出现了分隔符逗号(，)。\n",
    "# 解决方案：\n",
    "# 我们可以使用双引号对元素进行引用，通过引号引用的元素中，如果出现分隔符，将会当成普通的字符看待。\n",
    "# 由此又会引发另外一个问题=》元素中依然存在双引号。\n",
    "# 进一步解决方案：\n",
    "# 元素中的双引号使用两个双引号进行转义。\n",
    "file_name = \"playlist.csv\"\n",
    "songs = pd.read_csv(file_name)"
   ]
  },
  {
   "cell_type": "markdown",
   "metadata": {},
   "source": [
    "### 记录探索\n",
    "通过观察数据情况，我们可以得知，解析错误的记录就是因为\"的数量超过8个（字段文本中含有\"），从而造成引用不当。\n",
    "我们通过程序来计算可能造成解析错误的记录数量，进而决定采用何种方式进行处理。如果这样的数据较少，可考虑手动进行修改或是删除。"
   ]
  },
  {
   "cell_type": "code",
   "execution_count": 3,
   "metadata": {},
   "outputs": [
    {
     "name": "stdout",
     "output_type": "stream",
     "text": [
      "111231\n"
     ]
    }
   ],
   "source": [
    "with open(file_name, encoding=\"utf-8\") as f:\n",
    "    c = 0\n",
    "    for line in f:\n",
    "        if line.count(\"\\\"\") > 8:\n",
    "            c += 1\n",
    "print(c)"
   ]
  },
  {
   "cell_type": "markdown",
   "metadata": {},
   "source": [
    "### 原始数据处理\n",
    "通过运行结果发现，可能造成解析错误的记录数量，为数不少。因此，手动处理这样的数据，并非是一种好的解决方案。  \n",
    "我们采用程序的方式来进行处理。将字段中所有包含的非界定\"替换为'。以免在解析时出现错误。"
   ]
  },
  {
   "cell_type": "code",
   "execution_count": 4,
   "metadata": {},
   "outputs": [],
   "source": [
    "# 作为元素界定的引号存在这样的特征：\n",
    "# 1 行首\n",
    "# 2 行尾\n",
    "# 3 引号前面是\",\n",
    "# 4 引号后面是,\"\n",
    "# 如果不符合以上4个特征中任意的一个者，则认为这样的引号就是元素中的内容，而不是元素的界定。我们\n",
    "# 将作为元素中内容的双引号就可以替换为单引号（或其他字符）。\n",
    "re_obj = re.compile(r'(?<!^)(?<!\",)\"(?!,\")(?!$)')\n",
    "new_file_name = \"playlist2.csv\"\n",
    "with open(file_name, encoding=\"utf-8\") as f, open(new_file_name, mode=\"wt\", encoding=\"utf-8\") as f2:\n",
    "    for line in f:\n",
    "        if line.count(\"\\\"\") > 8:\n",
    "            line = re_obj.sub(\"'\", line)\n",
    "        f2.write(line)"
   ]
  },
  {
   "cell_type": "markdown",
   "metadata": {},
   "source": [
    "### 加载处理后的数据\n",
    "经过如上对原始数据进行处理后，我们就可以加载新生成的数据集，并且不会产生解析错误。  \n",
    "在加载之后，我们可以通过调用head，shape等输出数据集的一些简单信息。"
   ]
  },
  {
   "cell_type": "code",
   "execution_count": 5,
   "metadata": {},
   "outputs": [],
   "source": [
    "songs = pd.read_csv(new_file_name)"
   ]
  },
  {
   "cell_type": "code",
   "execution_count": 6,
   "metadata": {},
   "outputs": [
    {
     "data": {
      "text/html": [
       "<div>\n",
       "<style scoped>\n",
       "    .dataframe tbody tr th:only-of-type {\n",
       "        vertical-align: middle;\n",
       "    }\n",
       "\n",
       "    .dataframe tbody tr th {\n",
       "        vertical-align: top;\n",
       "    }\n",
       "\n",
       "    .dataframe thead th {\n",
       "        text-align: right;\n",
       "    }\n",
       "</style>\n",
       "<table border=\"1\" class=\"dataframe\">\n",
       "  <thead>\n",
       "    <tr style=\"text-align: right;\">\n",
       "      <th></th>\n",
       "      <th>user_id</th>\n",
       "      <th>\"artistname\"</th>\n",
       "      <th>\"trackname\"</th>\n",
       "      <th>\"playlistname\"</th>\n",
       "    </tr>\n",
       "  </thead>\n",
       "  <tbody>\n",
       "    <tr>\n",
       "      <th>0</th>\n",
       "      <td>9cc0cfd4d7d7885102480dd99e7a90d6</td>\n",
       "      <td>Elvis Costello</td>\n",
       "      <td>(The Angels Wanna Wear My) Red Shoes</td>\n",
       "      <td>HARD ROCK 2010</td>\n",
       "    </tr>\n",
       "    <tr>\n",
       "      <th>1</th>\n",
       "      <td>9cc0cfd4d7d7885102480dd99e7a90d6</td>\n",
       "      <td>Elvis Costello &amp; The Attractions</td>\n",
       "      <td>(What's So Funny 'Bout) Peace, Love And Unders...</td>\n",
       "      <td>HARD ROCK 2010</td>\n",
       "    </tr>\n",
       "    <tr>\n",
       "      <th>2</th>\n",
       "      <td>9cc0cfd4d7d7885102480dd99e7a90d6</td>\n",
       "      <td>Tiffany Page</td>\n",
       "      <td>7 Years Too Late</td>\n",
       "      <td>HARD ROCK 2010</td>\n",
       "    </tr>\n",
       "    <tr>\n",
       "      <th>3</th>\n",
       "      <td>9cc0cfd4d7d7885102480dd99e7a90d6</td>\n",
       "      <td>Elvis Costello &amp; The Attractions</td>\n",
       "      <td>Accidents Will Happen</td>\n",
       "      <td>HARD ROCK 2010</td>\n",
       "    </tr>\n",
       "    <tr>\n",
       "      <th>4</th>\n",
       "      <td>9cc0cfd4d7d7885102480dd99e7a90d6</td>\n",
       "      <td>Elvis Costello</td>\n",
       "      <td>Alison</td>\n",
       "      <td>HARD ROCK 2010</td>\n",
       "    </tr>\n",
       "  </tbody>\n",
       "</table>\n",
       "</div>"
      ],
      "text/plain": [
       "                            user_id                      \"artistname\"  \\\n",
       "0  9cc0cfd4d7d7885102480dd99e7a90d6                    Elvis Costello   \n",
       "1  9cc0cfd4d7d7885102480dd99e7a90d6  Elvis Costello & The Attractions   \n",
       "2  9cc0cfd4d7d7885102480dd99e7a90d6                      Tiffany Page   \n",
       "3  9cc0cfd4d7d7885102480dd99e7a90d6  Elvis Costello & The Attractions   \n",
       "4  9cc0cfd4d7d7885102480dd99e7a90d6                    Elvis Costello   \n",
       "\n",
       "                                         \"trackname\"  \"playlistname\"  \n",
       "0               (The Angels Wanna Wear My) Red Shoes  HARD ROCK 2010  \n",
       "1  (What's So Funny 'Bout) Peace, Love And Unders...  HARD ROCK 2010  \n",
       "2                                   7 Years Too Late  HARD ROCK 2010  \n",
       "3                              Accidents Will Happen  HARD ROCK 2010  \n",
       "4                                             Alison  HARD ROCK 2010  "
      ]
     },
     "metadata": {},
     "output_type": "display_data"
    },
    {
     "data": {
      "text/plain": [
       "(12902577, 4)"
      ]
     },
     "metadata": {},
     "output_type": "display_data"
    }
   ],
   "source": [
    "display(songs.head())\n",
    "display(songs.shape)"
   ]
  },
  {
   "cell_type": "markdown",
   "metadata": {},
   "source": [
    "### 处理标题行\n",
    "我们发现，原数据集中的标题列，分隔符的两端存在空格，如下：  \n",
    "`\"user_id\", \"artistname\", \"trackname\", \"playlistname\"`  \n",
    "这样会影响解析的结果（第一项元素没有引号，往后的元素存在引号）。我们在这里对标题行进行处理。"
   ]
  },
  {
   "cell_type": "code",
   "execution_count": 7,
   "metadata": {},
   "outputs": [
    {
     "data": {
      "text/plain": [
       "Index(['user_id', ' \"artistname\"', ' \"trackname\"', ' \"playlistname\"'], dtype='object')"
      ]
     },
     "metadata": {},
     "output_type": "display_data"
    },
    {
     "data": {
      "text/plain": [
       "Index(['user_id', 'artistname', 'trackname', 'playlistname'], dtype='object')"
      ]
     },
     "metadata": {},
     "output_type": "display_data"
    }
   ],
   "source": [
    "display(songs.columns)\n",
    "songs.columns = songs.columns.map(lambda item: item.strip(\"\\\" \"))\n",
    "display(songs.columns)"
   ]
  },
  {
   "cell_type": "markdown",
   "metadata": {},
   "source": [
    "## 数据清洗\n",
    "对数据集进行探索，进而完成数据清洗的工作，包括：\n",
    "* 缺失值处理\n",
    "* 异常值处理\n",
    "* 重复值处理\n",
    "\n",
    "对于文本类型的数据，我们可能需要进行额外的清洗工作：\n",
    "* 特殊字符以及标点符号的处理"
   ]
  },
  {
   "cell_type": "markdown",
   "metadata": {},
   "source": [
    "### 缺失值处理\n",
    "使用info方法或isnull方法查看缺失值信息。注意info方法在数据集数量不同时，默认的结果会存在一定的差异。"
   ]
  },
  {
   "cell_type": "code",
   "execution_count": 10,
   "metadata": {
    "scrolled": false
   },
   "outputs": [
    {
     "data": {
      "text/plain": [
       "user_id             0\n",
       "artistname      33568\n",
       "trackname          85\n",
       "playlistname       41\n",
       "dtype: int64"
      ]
     },
     "execution_count": 10,
     "metadata": {},
     "output_type": "execute_result"
    }
   ],
   "source": [
    "# 说明：当数据集较大时，为了计算速度，某些信息将不会显示，如果需要显示\n",
    "# 相关信息，需要将对应的参数设置为True。\n",
    "# songs.info()\n",
    "# songs.info(null_counts=True)\n",
    "songs.isnull().sum()"
   ]
  },
  {
   "cell_type": "markdown",
   "metadata": {},
   "source": [
    "通过结果我们发现，缺失值仅占据数据集总数很小的一部分（不足3‰），因此，可直接删除含有任意缺失值的记录。"
   ]
  },
  {
   "cell_type": "code",
   "execution_count": 11,
   "metadata": {},
   "outputs": [
    {
     "data": {
      "text/plain": [
       "user_id         0\n",
       "artistname      0\n",
       "trackname       0\n",
       "playlistname    0\n",
       "dtype: int64"
      ]
     },
     "execution_count": 11,
     "metadata": {},
     "output_type": "execute_result"
    }
   ],
   "source": [
    "songs.dropna(axis=0, how=\"any\", inplace=True)\n",
    "songs.isnull().sum()"
   ]
  },
  {
   "cell_type": "markdown",
   "metadata": {},
   "source": [
    "### 异常值处理\n",
    "对于文本类型的数据来说，通常异常值并不明显，不需要处理。"
   ]
  },
  {
   "cell_type": "code",
   "execution_count": 12,
   "metadata": {
    "scrolled": false
   },
   "outputs": [
    {
     "data": {
      "text/html": [
       "<div>\n",
       "<style scoped>\n",
       "    .dataframe tbody tr th:only-of-type {\n",
       "        vertical-align: middle;\n",
       "    }\n",
       "\n",
       "    .dataframe tbody tr th {\n",
       "        vertical-align: top;\n",
       "    }\n",
       "\n",
       "    .dataframe thead th {\n",
       "        text-align: right;\n",
       "    }\n",
       "</style>\n",
       "<table border=\"1\" class=\"dataframe\">\n",
       "  <thead>\n",
       "    <tr style=\"text-align: right;\">\n",
       "      <th></th>\n",
       "      <th>user_id</th>\n",
       "      <th>artistname</th>\n",
       "      <th>trackname</th>\n",
       "      <th>playlistname</th>\n",
       "    </tr>\n",
       "  </thead>\n",
       "  <tbody>\n",
       "    <tr>\n",
       "      <th>count</th>\n",
       "      <td>12868940</td>\n",
       "      <td>12868940</td>\n",
       "      <td>12868940</td>\n",
       "      <td>12868940</td>\n",
       "    </tr>\n",
       "    <tr>\n",
       "      <th>unique</th>\n",
       "      <td>15914</td>\n",
       "      <td>289791</td>\n",
       "      <td>2010289</td>\n",
       "      <td>157350</td>\n",
       "    </tr>\n",
       "    <tr>\n",
       "      <th>top</th>\n",
       "      <td>4398de6902abde3351347b048fcdc287</td>\n",
       "      <td>Daft Punk</td>\n",
       "      <td>Intro</td>\n",
       "      <td>Starred</td>\n",
       "    </tr>\n",
       "    <tr>\n",
       "      <th>freq</th>\n",
       "      <td>295291</td>\n",
       "      <td>36086</td>\n",
       "      <td>6676</td>\n",
       "      <td>1334801</td>\n",
       "    </tr>\n",
       "  </tbody>\n",
       "</table>\n",
       "</div>"
      ],
      "text/plain": [
       "                                 user_id artistname trackname playlistname\n",
       "count                           12868940   12868940  12868940     12868940\n",
       "unique                             15914     289791   2010289       157350\n",
       "top     4398de6902abde3351347b048fcdc287  Daft Punk     Intro      Starred\n",
       "freq                              295291      36086      6676      1334801"
      ]
     },
     "execution_count": 12,
     "metadata": {},
     "output_type": "execute_result"
    }
   ],
   "source": [
    "songs.describe()"
   ]
  },
  {
   "cell_type": "markdown",
   "metadata": {},
   "source": [
    "### 重复值处理\n",
    "* 通过duplicated方法检查重复值信息。  \n",
    "* 通过drop_duplicates删除重复值。"
   ]
  },
  {
   "cell_type": "code",
   "execution_count": 15,
   "metadata": {},
   "outputs": [
    {
     "data": {
      "text/plain": [
       "(12868912, 4)"
      ]
     },
     "metadata": {},
     "output_type": "display_data"
    }
   ],
   "source": [
    "# songs.duplicated().sum()\n",
    "# songs[songs.duplicated(keep=False)]\n",
    "# songs.drop_duplicates(inplace=True)\n",
    "display(songs.shape)"
   ]
  },
  {
   "cell_type": "markdown",
   "metadata": {},
   "source": [
    "## 数据转换与特征工程\n",
    "### 曲目名称转换\n",
    "在曲目这一列中，由于同一个曲目可能会因为年份，音质，演唱地点，重新录制等原因，出现各种版本，我们现在对曲目名称进行转换，对于同一个艺人，只要曲目名称相同，我们就认为是同一首曲目。  \n",
    "我们首先来计算下，在曲目名称转换之前，不重复的曲目名称数量。"
   ]
  },
  {
   "cell_type": "code",
   "execution_count": 16,
   "metadata": {},
   "outputs": [
    {
     "data": {
      "text/plain": [
       "2010289"
      ]
     },
     "metadata": {},
     "output_type": "display_data"
    }
   ],
   "source": [
    "# nunique 返回去重之后记录的数量。\n",
    "display(songs[\"trackname\"].nunique())"
   ]
  },
  {
   "cell_type": "markdown",
   "metadata": {},
   "source": [
    "然后再来输出下曲目名称的大致格式。这里，我们选择输出艺人pink floyd的部分曲目。"
   ]
  },
  {
   "cell_type": "code",
   "execution_count": 17,
   "metadata": {},
   "outputs": [
    {
     "data": {
      "text/plain": [
       "8196001                    pink floyd - absolutely curtains\n",
       "8196002    pink floyd - another brick in the wall, part two\n",
       "8196003                    pink floyd - any colour you like\n",
       "8196004                     pink floyd - apples and oranges\n",
       "8196209                         pink floyd - biding my time\n",
       "8196210          pink floyd - careful with that axe, eugene\n",
       "Name: trackname, dtype: object"
      ]
     },
     "metadata": {},
     "output_type": "display_data"
    }
   ],
   "source": [
    "display(songs[songs[\"artistname\"] == \"pink floyd\"].trackname[0:20])"
   ]
  },
  {
   "cell_type": "code",
   "execution_count": 19,
   "metadata": {},
   "outputs": [],
   "source": [
    "re_obj = re.compile(r\"[\\(\\[].*?[\\)\\]]\")\n",
    "\n",
    "def preprocess_track(trackname):\n",
    "    trackname = trackname.lower()\n",
    "    # 在()或者[]中的内容，都是标记版本，年份，重新录制等内容，删除。\n",
    "    trackname = re_obj.sub(\"\", trackname)\n",
    "    # 同理，-后面的内容也进行删除。\n",
    "    trackname = trackname.split('-', 1)[0]\n",
    "    trackname = trackname.strip()     \n",
    "    return trackname"
   ]
  },
  {
   "cell_type": "code",
   "execution_count": 20,
   "metadata": {},
   "outputs": [],
   "source": [
    "songs[\"trackname\"] = songs[\"trackname\"].apply(preprocess_track)\n",
    "songs[\"artistname\"] = songs[\"artistname\"].map(lambda x: x.lower())"
   ]
  },
  {
   "cell_type": "markdown",
   "metadata": {},
   "source": [
    "经过处理之后，我们再来输出处理之后的结果。"
   ]
  },
  {
   "cell_type": "code",
   "execution_count": 21,
   "metadata": {},
   "outputs": [
    {
     "data": {
      "text/plain": [
       "1363747"
      ]
     },
     "execution_count": 21,
     "metadata": {},
     "output_type": "execute_result"
    }
   ],
   "source": [
    "songs['trackname'].nunique()"
   ]
  },
  {
   "cell_type": "code",
   "execution_count": 22,
   "metadata": {
    "scrolled": true
   },
   "outputs": [
    {
     "data": {
      "text/plain": [
       "896                          sorrow\n",
       "1057               comfortably numb\n",
       "1058               comfortably numb\n",
       "1098                         echoes\n",
       "1099                        eclipse\n",
       "1186                        hey you\n",
       "1187                     high hopes\n",
       "1414     shine on you crazy diamond\n",
       "1554         welcome to the machine\n",
       "1568             wish you were here\n",
       "4193                   brain damage\n",
       "5123                         echoes\n",
       "5353                       fearless\n",
       "7647                          money\n",
       "10929            wish you were here\n",
       "10930            wish you were here\n",
       "11229                  brain damage\n",
       "12235                         money\n",
       "12809                         money\n",
       "28819                one of the few\n",
       "Name: trackname, dtype: object"
      ]
     },
     "metadata": {},
     "output_type": "display_data"
    }
   ],
   "source": [
    "display(songs[songs[\"artistname\"] == \"pink floyd\"].trackname[0:20])"
   ]
  },
  {
   "cell_type": "markdown",
   "metadata": {},
   "source": [
    "### 受欢迎的艺人与曲目\n",
    "我们现在来统计下最受欢迎的十大艺人与十大曲目。  \n",
    "说明：\n",
    "* 艺人名称通常不会相同。\n",
    "* 曲目名称可能会相同。"
   ]
  },
  {
   "cell_type": "code",
   "execution_count": 23,
   "metadata": {
    "scrolled": false
   },
   "outputs": [
    {
     "data": {
      "text/plain": [
       "<matplotlib.axes._subplots.AxesSubplot at 0x5297a668>"
      ]
     },
     "execution_count": 23,
     "metadata": {},
     "output_type": "execute_result"
    },
    {
     "data": {
      "image/png": "[encoded data removed]",
      "text/plain": [
       "<Figure size 432x288 with 1 Axes>"
      ]
     },
     "metadata": {
      "needs_background": "light"
     },
     "output_type": "display_data"
    }
   ],
   "source": [
    "songs[\"artistname\"].value_counts()[:10].plot(kind=\"bar\")"
   ]
  },
  {
   "cell_type": "code",
   "execution_count": 24,
   "metadata": {},
   "outputs": [
    {
     "data": {
      "text/plain": [
       "<matplotlib.axes._subplots.AxesSubplot at 0x32a3b5f8>"
      ]
     },
     "execution_count": 24,
     "metadata": {},
     "output_type": "execute_result"
    },
    {
     "data": {
      "image/png": "[encoded data removed]",
      "text/plain": [
       "<Figure size 432x288 with 1 Axes>"
      ]
     },
     "metadata": {
      "needs_background": "light"
     },
     "output_type": "display_data"
    }
   ],
   "source": [
    "songs.groupby([\"artistname\", \"trackname\"]).size().sort_values(ascending=False)[:10].plot(kind=\"bar\")"
   ]
  },
  {
   "cell_type": "markdown",
   "metadata": {},
   "source": [
    "### 播放列表处理\n",
    "我们对数据集进行进一步整理：\n",
    "* 将用户与播放列表合并为一列。便于进行分组。\n",
    "* 将艺人与曲目合并为一列，便于后续的建模。"
   ]
  },
  {
   "cell_type": "code",
   "execution_count": null,
   "metadata": {},
   "outputs": [],
   "source": [
    "# 此种方法理论上是正确的，但是实际上运行会非常缓慢。\n",
    "# def combine(x):\n",
    "#     x[\"userplaylist\"] = x[\"user_id\"] + \" - \" + x[\"playlistname\"]\n",
    "#     x[\"trackartist\"] = x[\"artistname\"] + \" - \" + x[\"trackname\"]\n",
    "#     x.drop([\"artistname\", \"trackname\", \"user_id\", \"playlistname\"], inplace=True)\n",
    "#     return x\n",
    "\n",
    "# songs = songs.apply(combine, axis=1)"
   ]
  },
  {
   "cell_type": "code",
   "execution_count": 25,
   "metadata": {},
   "outputs": [],
   "source": [
    "songs[\"userplaylist\"] = songs[\"user_id\"] + \" - \" + songs[\"playlistname\"]\n",
    "# 注意：增加两列内存消耗很大，当不需要时，最好立刻删除，释放有效的内存空间。\n",
    "songs.drop([\"user_id\", \"playlistname\"], axis=1, inplace=True)\n",
    "songs[\"trackartist\"] = songs[\"artistname\"] + \" - \" + songs[\"trackname\"]\n",
    "songs.drop([\"artistname\", \"trackname\"], axis=1, inplace=True)"
   ]
  },
  {
   "cell_type": "code",
   "execution_count": 26,
   "metadata": {},
   "outputs": [
    {
     "data": {
      "text/html": [
       "<div>\n",
       "<style scoped>\n",
       "    .dataframe tbody tr th:only-of-type {\n",
       "        vertical-align: middle;\n",
       "    }\n",
       "\n",
       "    .dataframe tbody tr th {\n",
       "        vertical-align: top;\n",
       "    }\n",
       "\n",
       "    .dataframe thead th {\n",
       "        text-align: right;\n",
       "    }\n",
       "</style>\n",
       "<table border=\"1\" class=\"dataframe\">\n",
       "  <thead>\n",
       "    <tr style=\"text-align: right;\">\n",
       "      <th></th>\n",
       "      <th>userplaylist</th>\n",
       "      <th>trackartist</th>\n",
       "    </tr>\n",
       "  </thead>\n",
       "  <tbody>\n",
       "    <tr>\n",
       "      <th>0</th>\n",
       "      <td>9cc0cfd4d7d7885102480dd99e7a90d6 - HARD ROCK 2010</td>\n",
       "      <td>elvis costello - red shoes</td>\n",
       "    </tr>\n",
       "    <tr>\n",
       "      <th>1</th>\n",
       "      <td>9cc0cfd4d7d7885102480dd99e7a90d6 - HARD ROCK 2010</td>\n",
       "      <td>elvis costello &amp; the attractions - peace, love...</td>\n",
       "    </tr>\n",
       "    <tr>\n",
       "      <th>2</th>\n",
       "      <td>9cc0cfd4d7d7885102480dd99e7a90d6 - HARD ROCK 2010</td>\n",
       "      <td>tiffany page - 7 years too late</td>\n",
       "    </tr>\n",
       "    <tr>\n",
       "      <th>3</th>\n",
       "      <td>9cc0cfd4d7d7885102480dd99e7a90d6 - HARD ROCK 2010</td>\n",
       "      <td>elvis costello &amp; the attractions - accidents w...</td>\n",
       "    </tr>\n",
       "    <tr>\n",
       "      <th>4</th>\n",
       "      <td>9cc0cfd4d7d7885102480dd99e7a90d6 - HARD ROCK 2010</td>\n",
       "      <td>elvis costello - alison</td>\n",
       "    </tr>\n",
       "  </tbody>\n",
       "</table>\n",
       "</div>"
      ],
      "text/plain": [
       "                                        userplaylist  \\\n",
       "0  9cc0cfd4d7d7885102480dd99e7a90d6 - HARD ROCK 2010   \n",
       "1  9cc0cfd4d7d7885102480dd99e7a90d6 - HARD ROCK 2010   \n",
       "2  9cc0cfd4d7d7885102480dd99e7a90d6 - HARD ROCK 2010   \n",
       "3  9cc0cfd4d7d7885102480dd99e7a90d6 - HARD ROCK 2010   \n",
       "4  9cc0cfd4d7d7885102480dd99e7a90d6 - HARD ROCK 2010   \n",
       "\n",
       "                                         trackartist  \n",
       "0                         elvis costello - red shoes  \n",
       "1  elvis costello & the attractions - peace, love...  \n",
       "2                    tiffany page - 7 years too late  \n",
       "3  elvis costello & the attractions - accidents w...  \n",
       "4                            elvis costello - alison  "
      ]
     },
     "execution_count": 26,
     "metadata": {},
     "output_type": "execute_result"
    }
   ],
   "source": [
    "songs.head()"
   ]
  },
  {
   "cell_type": "markdown",
   "metadata": {},
   "source": [
    "为了稍后实现更好的数据建模，我们对播放列表进行处理，将列表长度小于10的分组进行删除。"
   ]
  },
  {
   "cell_type": "code",
   "execution_count": 30,
   "metadata": {},
   "outputs": [
    {
     "data": {
      "text/html": [
       "<div>\n",
       "<style scoped>\n",
       "    .dataframe tbody tr th:only-of-type {\n",
       "        vertical-align: middle;\n",
       "    }\n",
       "\n",
       "    .dataframe tbody tr th {\n",
       "        vertical-align: top;\n",
       "    }\n",
       "\n",
       "    .dataframe thead th {\n",
       "        text-align: right;\n",
       "    }\n",
       "</style>\n",
       "<table border=\"1\" class=\"dataframe\">\n",
       "  <thead>\n",
       "    <tr style=\"text-align: right;\">\n",
       "      <th></th>\n",
       "      <th>0</th>\n",
       "      <th>1</th>\n",
       "    </tr>\n",
       "  </thead>\n",
       "  <tbody>\n",
       "    <tr>\n",
       "      <th>0</th>\n",
       "      <td>1</td>\n",
       "      <td>3</td>\n",
       "    </tr>\n",
       "    <tr>\n",
       "      <th>1</th>\n",
       "      <td>2</td>\n",
       "      <td>4</td>\n",
       "    </tr>\n",
       "    <tr>\n",
       "      <th>2</th>\n",
       "      <td>1</td>\n",
       "      <td>4</td>\n",
       "    </tr>\n",
       "    <tr>\n",
       "      <th>3</th>\n",
       "      <td>2</td>\n",
       "      <td>5</td>\n",
       "    </tr>\n",
       "    <tr>\n",
       "      <th>4</th>\n",
       "      <td>1</td>\n",
       "      <td>5</td>\n",
       "    </tr>\n",
       "  </tbody>\n",
       "</table>\n",
       "</div>"
      ],
      "text/plain": [
       "   0  1\n",
       "0  1  3\n",
       "1  2  4\n",
       "2  1  4\n",
       "3  2  5\n",
       "4  1  5"
      ]
     },
     "metadata": {},
     "output_type": "display_data"
    },
    {
     "data": {
      "text/html": [
       "<div>\n",
       "<style scoped>\n",
       "    .dataframe tbody tr th:only-of-type {\n",
       "        vertical-align: middle;\n",
       "    }\n",
       "\n",
       "    .dataframe tbody tr th {\n",
       "        vertical-align: top;\n",
       "    }\n",
       "\n",
       "    .dataframe thead th {\n",
       "        text-align: right;\n",
       "    }\n",
       "</style>\n",
       "<table border=\"1\" class=\"dataframe\">\n",
       "  <thead>\n",
       "    <tr style=\"text-align: right;\">\n",
       "      <th></th>\n",
       "      <th>0</th>\n",
       "      <th>1</th>\n",
       "    </tr>\n",
       "  </thead>\n",
       "  <tbody>\n",
       "    <tr>\n",
       "      <th>0</th>\n",
       "      <td>1</td>\n",
       "      <td>3</td>\n",
       "    </tr>\n",
       "    <tr>\n",
       "      <th>2</th>\n",
       "      <td>1</td>\n",
       "      <td>4</td>\n",
       "    </tr>\n",
       "    <tr>\n",
       "      <th>4</th>\n",
       "      <td>1</td>\n",
       "      <td>5</td>\n",
       "    </tr>\n",
       "  </tbody>\n",
       "</table>\n",
       "</div>"
      ],
      "text/plain": [
       "   0  1\n",
       "0  1  3\n",
       "2  1  4\n",
       "4  1  5"
      ]
     },
     "execution_count": 30,
     "metadata": {},
     "output_type": "execute_result"
    }
   ],
   "source": [
    "def f(item):\n",
    "    return len(item) > 2\n",
    "\n",
    "df = pd.DataFrame([[1, 3], [2, 4], [1, 4], [2, 5], [1, 5]])\n",
    "display(df)\n",
    "g = df.groupby(0)\n",
    "# filter方法用来进行过滤。该方法接收一个函数对象。函数对象具有一个参数。\n",
    "# 当调用filter方法时，会将每个分组数据传递给方法的参数，如果方法的返回值为True，则\n",
    "# 保留该组的数据，如果方法的返回值为False，则删除（过滤掉）该组的数据。\n",
    "g.filter(f)"
   ]
  },
  {
   "cell_type": "code",
   "execution_count": null,
   "metadata": {},
   "outputs": [],
   "source": [
    "g = songs.groupby(\"userplaylist\")\n",
    "\n",
    "songs = g.filter(lambda x: len(x) >= 10)"
   ]
  },
  {
   "cell_type": "markdown",
   "metadata": {},
   "source": [
    "然后，我们对新的数据集重新根据用户与播放列表进行分组，并将每组的曲目与艺人组成一个列表。"
   ]
  },
  {
   "cell_type": "code",
   "execution_count": 31,
   "metadata": {},
   "outputs": [],
   "source": [
    "g = songs.groupby(\"userplaylist\")\n",
    "songs = g[\"trackartist\"].agg(lambda x: x.tolist())"
   ]
  },
  {
   "cell_type": "code",
   "execution_count": 32,
   "metadata": {},
   "outputs": [
    {
     "data": {
      "text/plain": [
       "userplaylist\n",
       "00055176fea33f6e027cd3302289378b - favs                [jannik brunke - 18, green day - 21 guns, shaw...\n",
       "0007f3dd09c91198371454c608d47f22 - 2014                [colourshop - 2014, tom odell - another love, ...\n",
       "0007f3dd09c91198371454c608d47f22 - Fav songs           [bryan adams - i do it for you, colourshop - 2...\n",
       "0007f3dd09c91198371454c608d47f22 - Sad songs            [johnny cash - hurt, brandi carlile - the story]\n",
       "000b0f32b5739f052b9d40fcc5c41079 - Agnetha Fältskog    [hootenanny singers - dansen på sunnanö, agnet...\n",
       "Name: trackartist, dtype: object"
      ]
     },
     "execution_count": 32,
     "metadata": {},
     "output_type": "execute_result"
    }
   ],
   "source": [
    "songs.head()"
   ]
  },
  {
   "cell_type": "markdown",
   "metadata": {},
   "source": [
    "## 数据建模\n",
    "### 训练模型"
   ]
  },
  {
   "cell_type": "code",
   "execution_count": 33,
   "metadata": {},
   "outputs": [],
   "source": [
    "import logging\n",
    "logging.basicConfig(format='%(asctime)s : %(levelname)s : %(message)s', level=logging.INFO)"
   ]
  },
  {
   "cell_type": "code",
   "execution_count": 35,
   "metadata": {
    "scrolled": true
   },
   "outputs": [
    {
     "name": "stderr",
     "output_type": "stream",
     "text": [
      "2019-03-29 11:40:29,476 : WARNING : consider setting layer size to a multiple of 4 for greater performance\n",
      "2019-03-29 11:40:29,495 : INFO : collecting all words and their counts\n",
      "2019-03-29 11:40:29,498 : INFO : PROGRESS: at sentence #0, processed 0 words, keeping 0 word types\n",
      "2019-03-29 11:40:29,551 : INFO : collected 58385 word types from a corpus of 86008 raw words and 1000 sentences\n",
      "2019-03-29 11:40:29,553 : INFO : Loading a fresh vocabulary\n",
      "2019-03-29 11:40:29,627 : INFO : effective_min_count=10 retains 205 unique words (0% of original 58385, drops 58180)\n",
      "2019-03-29 11:40:29,634 : INFO : effective_min_count=10 leaves 2733 word corpus (3% of original 86008, drops 83275)\n",
      "2019-03-29 11:40:29,650 : INFO : deleting the raw counts dictionary of 58385 items\n",
      "2019-03-29 11:40:29,654 : INFO : sample=0.001 downsamples 205 most-common words\n",
      "2019-03-29 11:40:29,657 : INFO : downsampling leaves estimated 1786 word corpus (65.4% of prior 2733)\n",
      "2019-03-29 11:40:29,661 : INFO : estimated required memory for 205 words and 50 dimensions: 184500 bytes\n",
      "2019-03-29 11:40:29,662 : INFO : resetting layer weights\n",
      "2019-03-29 11:40:29,680 : INFO : training model with 10 workers on 205 vocabulary and 50 features, using sg=1 hs=0 sample=0.001 negative=5 window=7\n",
      "2019-03-29 11:40:29,759 : INFO : worker thread finished; awaiting finish of 9 more threads\n",
      "2019-03-29 11:40:29,771 : INFO : worker thread finished; awaiting finish of 8 more threads\n",
      "2019-03-29 11:40:29,774 : INFO : worker thread finished; awaiting finish of 7 more threads\n",
      "2019-03-29 11:40:29,778 : INFO : worker thread finished; awaiting finish of 6 more threads\n",
      "2019-03-29 11:40:29,780 : INFO : worker thread finished; awaiting finish of 5 more threads\n",
      "2019-03-29 11:40:29,794 : INFO : worker thread finished; awaiting finish of 4 more threads\n",
      "2019-03-29 11:40:29,796 : INFO : worker thread finished; awaiting finish of 3 more threads\n",
      "2019-03-29 11:40:29,798 : INFO : worker thread finished; awaiting finish of 2 more threads\n",
      "2019-03-29 11:40:29,799 : INFO : worker thread finished; awaiting finish of 1 more threads\n",
      "2019-03-29 11:40:29,801 : INFO : worker thread finished; awaiting finish of 0 more threads\n",
      "2019-03-29 11:40:29,804 : INFO : EPOCH - 1 : training on 86008 raw words (1814 effective words) took 0.1s, 21394 effective words/s\n",
      "2019-03-29 11:40:29,850 : INFO : worker thread finished; awaiting finish of 9 more threads\n",
      "2019-03-29 11:40:29,853 : INFO : worker thread finished; awaiting finish of 8 more threads\n",
      "2019-03-29 11:40:29,856 : INFO : worker thread finished; awaiting finish of 7 more threads\n",
      "2019-03-29 11:40:29,858 : INFO : worker thread finished; awaiting finish of 6 more threads\n",
      "2019-03-29 11:40:29,861 : INFO : worker thread finished; awaiting finish of 5 more threads\n",
      "2019-03-29 11:40:29,866 : INFO : worker thread finished; awaiting finish of 4 more threads\n",
      "2019-03-29 11:40:29,868 : INFO : worker thread finished; awaiting finish of 3 more threads\n",
      "2019-03-29 11:40:29,870 : INFO : worker thread finished; awaiting finish of 2 more threads\n",
      "2019-03-29 11:40:29,874 : INFO : worker thread finished; awaiting finish of 1 more threads\n",
      "2019-03-29 11:40:29,877 : INFO : worker thread finished; awaiting finish of 0 more threads\n",
      "2019-03-29 11:40:29,878 : INFO : EPOCH - 2 : training on 86008 raw words (1816 effective words) took 0.0s, 43592 effective words/s\n",
      "2019-03-29 11:40:29,914 : INFO : worker thread finished; awaiting finish of 9 more threads\n",
      "2019-03-29 11:40:29,919 : INFO : worker thread finished; awaiting finish of 8 more threads\n",
      "2019-03-29 11:40:29,921 : INFO : worker thread finished; awaiting finish of 7 more threads\n",
      "2019-03-29 11:40:29,925 : INFO : worker thread finished; awaiting finish of 6 more threads\n",
      "2019-03-29 11:40:29,927 : INFO : worker thread finished; awaiting finish of 5 more threads\n",
      "2019-03-29 11:40:29,928 : INFO : worker thread finished; awaiting finish of 4 more threads\n",
      "2019-03-29 11:40:29,932 : INFO : worker thread finished; awaiting finish of 3 more threads\n",
      "2019-03-29 11:40:29,935 : INFO : worker thread finished; awaiting finish of 2 more threads\n",
      "2019-03-29 11:40:29,937 : INFO : worker thread finished; awaiting finish of 1 more threads\n",
      "2019-03-29 11:40:29,940 : INFO : worker thread finished; awaiting finish of 0 more threads\n",
      "2019-03-29 11:40:29,944 : INFO : EPOCH - 3 : training on 86008 raw words (1821 effective words) took 0.0s, 53613 effective words/s\n",
      "2019-03-29 11:40:29,957 : INFO : worker thread finished; awaiting finish of 9 more threads\n",
      "2019-03-29 11:40:29,958 : INFO : worker thread finished; awaiting finish of 8 more threads\n",
      "2019-03-29 11:40:29,962 : INFO : worker thread finished; awaiting finish of 7 more threads\n",
      "2019-03-29 11:40:29,965 : INFO : worker thread finished; awaiting finish of 6 more threads\n",
      "2019-03-29 11:40:29,967 : INFO : worker thread finished; awaiting finish of 5 more threads\n",
      "2019-03-29 11:40:29,969 : INFO : worker thread finished; awaiting finish of 4 more threads\n",
      "2019-03-29 11:40:29,972 : INFO : worker thread finished; awaiting finish of 3 more threads\n",
      "2019-03-29 11:40:29,993 : INFO : worker thread finished; awaiting finish of 2 more threads\n",
      "2019-03-29 11:40:29,995 : INFO : worker thread finished; awaiting finish of 1 more threads\n",
      "2019-03-29 11:40:29,997 : INFO : worker thread finished; awaiting finish of 0 more threads\n",
      "2019-03-29 11:40:29,999 : INFO : EPOCH - 4 : training on 86008 raw words (1743 effective words) took 0.0s, 39891 effective words/s\n",
      "2019-03-29 11:40:30,032 : INFO : worker thread finished; awaiting finish of 9 more threads\n",
      "2019-03-29 11:40:30,037 : INFO : worker thread finished; awaiting finish of 8 more threads\n",
      "2019-03-29 11:40:30,039 : INFO : worker thread finished; awaiting finish of 7 more threads\n",
      "2019-03-29 11:40:30,041 : INFO : worker thread finished; awaiting finish of 6 more threads\n",
      "2019-03-29 11:40:30,043 : INFO : worker thread finished; awaiting finish of 5 more threads\n",
      "2019-03-29 11:40:30,045 : INFO : worker thread finished; awaiting finish of 4 more threads\n",
      "2019-03-29 11:40:30,048 : INFO : worker thread finished; awaiting finish of 3 more threads\n",
      "2019-03-29 11:40:30,050 : INFO : worker thread finished; awaiting finish of 2 more threads\n",
      "2019-03-29 11:40:30,052 : INFO : worker thread finished; awaiting finish of 1 more threads\n",
      "2019-03-29 11:40:30,053 : INFO : worker thread finished; awaiting finish of 0 more threads\n",
      "2019-03-29 11:40:30,054 : INFO : EPOCH - 5 : training on 86008 raw words (1773 effective words) took 0.0s, 54433 effective words/s\n",
      "2019-03-29 11:40:30,086 : INFO : worker thread finished; awaiting finish of 9 more threads\n",
      "2019-03-29 11:40:30,094 : INFO : worker thread finished; awaiting finish of 8 more threads\n",
      "2019-03-29 11:40:30,096 : INFO : worker thread finished; awaiting finish of 7 more threads\n",
      "2019-03-29 11:40:30,098 : INFO : worker thread finished; awaiting finish of 6 more threads\n",
      "2019-03-29 11:40:30,099 : INFO : worker thread finished; awaiting finish of 5 more threads\n",
      "2019-03-29 11:40:30,100 : INFO : worker thread finished; awaiting finish of 4 more threads\n",
      "2019-03-29 11:40:30,101 : INFO : worker thread finished; awaiting finish of 3 more threads\n",
      "2019-03-29 11:40:30,102 : INFO : worker thread finished; awaiting finish of 2 more threads\n",
      "2019-03-29 11:40:30,103 : INFO : worker thread finished; awaiting finish of 1 more threads\n",
      "2019-03-29 11:40:30,103 : INFO : worker thread finished; awaiting finish of 0 more threads\n",
      "2019-03-29 11:40:30,104 : INFO : EPOCH - 6 : training on 86008 raw words (1801 effective words) took 0.0s, 101485 effective words/s\n",
      "2019-03-29 11:40:30,127 : INFO : worker thread finished; awaiting finish of 9 more threads\n",
      "2019-03-29 11:40:30,138 : INFO : worker thread finished; awaiting finish of 8 more threads\n",
      "2019-03-29 11:40:30,140 : INFO : worker thread finished; awaiting finish of 7 more threads\n",
      "2019-03-29 11:40:30,142 : INFO : worker thread finished; awaiting finish of 6 more threads\n",
      "2019-03-29 11:40:30,144 : INFO : worker thread finished; awaiting finish of 5 more threads\n",
      "2019-03-29 11:40:30,146 : INFO : worker thread finished; awaiting finish of 4 more threads\n",
      "2019-03-29 11:40:30,149 : INFO : worker thread finished; awaiting finish of 3 more threads\n",
      "2019-03-29 11:40:30,153 : INFO : worker thread finished; awaiting finish of 2 more threads\n"
     ]
    },
    {
     "name": "stderr",
     "output_type": "stream",
     "text": [
      "2019-03-29 11:40:30,154 : INFO : worker thread finished; awaiting finish of 1 more threads\n",
      "2019-03-29 11:40:30,156 : INFO : worker thread finished; awaiting finish of 0 more threads\n",
      "2019-03-29 11:40:30,158 : INFO : EPOCH - 7 : training on 86008 raw words (1806 effective words) took 0.0s, 57784 effective words/s\n",
      "2019-03-29 11:40:30,202 : INFO : worker thread finished; awaiting finish of 9 more threads\n",
      "2019-03-29 11:40:30,209 : INFO : worker thread finished; awaiting finish of 8 more threads\n",
      "2019-03-29 11:40:30,212 : INFO : worker thread finished; awaiting finish of 7 more threads\n",
      "2019-03-29 11:40:30,216 : INFO : worker thread finished; awaiting finish of 6 more threads\n",
      "2019-03-29 11:40:30,217 : INFO : worker thread finished; awaiting finish of 5 more threads\n",
      "2019-03-29 11:40:30,218 : INFO : worker thread finished; awaiting finish of 4 more threads\n",
      "2019-03-29 11:40:30,219 : INFO : worker thread finished; awaiting finish of 3 more threads\n",
      "2019-03-29 11:40:30,220 : INFO : worker thread finished; awaiting finish of 2 more threads\n",
      "2019-03-29 11:40:30,221 : INFO : worker thread finished; awaiting finish of 1 more threads\n",
      "2019-03-29 11:40:30,222 : INFO : worker thread finished; awaiting finish of 0 more threads\n",
      "2019-03-29 11:40:30,223 : INFO : EPOCH - 8 : training on 86008 raw words (1774 effective words) took 0.0s, 68479 effective words/s\n",
      "2019-03-29 11:40:30,244 : INFO : worker thread finished; awaiting finish of 9 more threads\n",
      "2019-03-29 11:40:30,246 : INFO : worker thread finished; awaiting finish of 8 more threads\n",
      "2019-03-29 11:40:30,262 : INFO : worker thread finished; awaiting finish of 7 more threads\n",
      "2019-03-29 11:40:30,275 : INFO : worker thread finished; awaiting finish of 6 more threads\n",
      "2019-03-29 11:40:30,279 : INFO : worker thread finished; awaiting finish of 5 more threads\n",
      "2019-03-29 11:40:30,288 : INFO : worker thread finished; awaiting finish of 4 more threads\n",
      "2019-03-29 11:40:30,290 : INFO : worker thread finished; awaiting finish of 3 more threads\n",
      "2019-03-29 11:40:30,292 : INFO : worker thread finished; awaiting finish of 2 more threads\n",
      "2019-03-29 11:40:30,294 : INFO : worker thread finished; awaiting finish of 1 more threads\n",
      "2019-03-29 11:40:30,297 : INFO : worker thread finished; awaiting finish of 0 more threads\n",
      "2019-03-29 11:40:30,300 : INFO : EPOCH - 9 : training on 86008 raw words (1792 effective words) took 0.1s, 31813 effective words/s\n",
      "2019-03-29 11:40:30,328 : INFO : worker thread finished; awaiting finish of 9 more threads\n",
      "2019-03-29 11:40:30,333 : INFO : worker thread finished; awaiting finish of 8 more threads\n",
      "2019-03-29 11:40:30,334 : INFO : worker thread finished; awaiting finish of 7 more threads\n",
      "2019-03-29 11:40:30,336 : INFO : worker thread finished; awaiting finish of 6 more threads\n",
      "2019-03-29 11:40:30,336 : INFO : worker thread finished; awaiting finish of 5 more threads\n",
      "2019-03-29 11:40:30,337 : INFO : worker thread finished; awaiting finish of 4 more threads\n",
      "2019-03-29 11:40:30,338 : INFO : worker thread finished; awaiting finish of 3 more threads\n",
      "2019-03-29 11:40:30,339 : INFO : worker thread finished; awaiting finish of 2 more threads\n",
      "2019-03-29 11:40:30,340 : INFO : worker thread finished; awaiting finish of 1 more threads\n",
      "2019-03-29 11:40:30,341 : INFO : worker thread finished; awaiting finish of 0 more threads\n",
      "2019-03-29 11:40:30,342 : INFO : EPOCH - 10 : training on 86008 raw words (1787 effective words) took 0.0s, 64601 effective words/s\n",
      "2019-03-29 11:40:30,365 : INFO : worker thread finished; awaiting finish of 9 more threads\n",
      "2019-03-29 11:40:30,367 : INFO : worker thread finished; awaiting finish of 8 more threads\n",
      "2019-03-29 11:40:30,369 : INFO : worker thread finished; awaiting finish of 7 more threads\n",
      "2019-03-29 11:40:30,375 : INFO : worker thread finished; awaiting finish of 6 more threads\n",
      "2019-03-29 11:40:30,379 : INFO : worker thread finished; awaiting finish of 5 more threads\n",
      "2019-03-29 11:40:30,385 : INFO : worker thread finished; awaiting finish of 4 more threads\n",
      "2019-03-29 11:40:30,387 : INFO : worker thread finished; awaiting finish of 3 more threads\n",
      "2019-03-29 11:40:30,392 : INFO : worker thread finished; awaiting finish of 2 more threads\n",
      "2019-03-29 11:40:30,393 : INFO : worker thread finished; awaiting finish of 1 more threads\n",
      "2019-03-29 11:40:30,394 : INFO : worker thread finished; awaiting finish of 0 more threads\n",
      "2019-03-29 11:40:30,397 : INFO : EPOCH - 11 : training on 86008 raw words (1791 effective words) took 0.0s, 55838 effective words/s\n",
      "2019-03-29 11:40:30,416 : INFO : worker thread finished; awaiting finish of 9 more threads\n",
      "2019-03-29 11:40:30,421 : INFO : worker thread finished; awaiting finish of 8 more threads\n",
      "2019-03-29 11:40:30,424 : INFO : worker thread finished; awaiting finish of 7 more threads\n",
      "2019-03-29 11:40:30,428 : INFO : worker thread finished; awaiting finish of 6 more threads\n",
      "2019-03-29 11:40:30,434 : INFO : worker thread finished; awaiting finish of 5 more threads\n",
      "2019-03-29 11:40:30,437 : INFO : worker thread finished; awaiting finish of 4 more threads\n",
      "2019-03-29 11:40:30,440 : INFO : worker thread finished; awaiting finish of 3 more threads\n",
      "2019-03-29 11:40:30,449 : INFO : worker thread finished; awaiting finish of 2 more threads\n",
      "2019-03-29 11:40:30,452 : INFO : worker thread finished; awaiting finish of 1 more threads\n",
      "2019-03-29 11:40:30,453 : INFO : worker thread finished; awaiting finish of 0 more threads\n",
      "2019-03-29 11:40:30,454 : INFO : EPOCH - 12 : training on 86008 raw words (1770 effective words) took 0.0s, 42619 effective words/s\n",
      "2019-03-29 11:40:30,467 : INFO : worker thread finished; awaiting finish of 9 more threads\n",
      "2019-03-29 11:40:30,473 : INFO : worker thread finished; awaiting finish of 8 more threads\n",
      "2019-03-29 11:40:30,493 : INFO : worker thread finished; awaiting finish of 7 more threads\n",
      "2019-03-29 11:40:30,496 : INFO : worker thread finished; awaiting finish of 6 more threads\n",
      "2019-03-29 11:40:30,500 : INFO : worker thread finished; awaiting finish of 5 more threads\n",
      "2019-03-29 11:40:30,501 : INFO : worker thread finished; awaiting finish of 4 more threads\n",
      "2019-03-29 11:40:30,504 : INFO : worker thread finished; awaiting finish of 3 more threads\n",
      "2019-03-29 11:40:30,506 : INFO : worker thread finished; awaiting finish of 2 more threads\n",
      "2019-03-29 11:40:30,509 : INFO : worker thread finished; awaiting finish of 1 more threads\n",
      "2019-03-29 11:40:30,511 : INFO : worker thread finished; awaiting finish of 0 more threads\n",
      "2019-03-29 11:40:30,513 : INFO : EPOCH - 13 : training on 86008 raw words (1826 effective words) took 0.0s, 37072 effective words/s\n",
      "2019-03-29 11:40:30,537 : INFO : worker thread finished; awaiting finish of 9 more threads\n",
      "2019-03-29 11:40:30,541 : INFO : worker thread finished; awaiting finish of 8 more threads\n",
      "2019-03-29 11:40:30,543 : INFO : worker thread finished; awaiting finish of 7 more threads\n",
      "2019-03-29 11:40:30,544 : INFO : worker thread finished; awaiting finish of 6 more threads\n",
      "2019-03-29 11:40:30,546 : INFO : worker thread finished; awaiting finish of 5 more threads\n",
      "2019-03-29 11:40:30,547 : INFO : worker thread finished; awaiting finish of 4 more threads\n",
      "2019-03-29 11:40:30,548 : INFO : worker thread finished; awaiting finish of 3 more threads\n",
      "2019-03-29 11:40:30,549 : INFO : worker thread finished; awaiting finish of 2 more threads\n",
      "2019-03-29 11:40:30,551 : INFO : worker thread finished; awaiting finish of 1 more threads\n",
      "2019-03-29 11:40:30,552 : INFO : worker thread finished; awaiting finish of 0 more threads\n",
      "2019-03-29 11:40:30,553 : INFO : EPOCH - 14 : training on 86008 raw words (1821 effective words) took 0.0s, 75431 effective words/s\n",
      "2019-03-29 11:40:30,580 : INFO : worker thread finished; awaiting finish of 9 more threads\n",
      "2019-03-29 11:40:30,593 : INFO : worker thread finished; awaiting finish of 8 more threads\n",
      "2019-03-29 11:40:30,595 : INFO : worker thread finished; awaiting finish of 7 more threads\n",
      "2019-03-29 11:40:30,599 : INFO : worker thread finished; awaiting finish of 6 more threads\n",
      "2019-03-29 11:40:30,605 : INFO : worker thread finished; awaiting finish of 5 more threads\n",
      "2019-03-29 11:40:30,607 : INFO : worker thread finished; awaiting finish of 4 more threads\n",
      "2019-03-29 11:40:30,609 : INFO : worker thread finished; awaiting finish of 3 more threads\n"
     ]
    },
    {
     "name": "stderr",
     "output_type": "stream",
     "text": [
      "2019-03-29 11:40:30,610 : INFO : worker thread finished; awaiting finish of 2 more threads\n",
      "2019-03-29 11:40:30,613 : INFO : worker thread finished; awaiting finish of 1 more threads\n",
      "2019-03-29 11:40:30,617 : INFO : worker thread finished; awaiting finish of 0 more threads\n",
      "2019-03-29 11:40:30,619 : INFO : EPOCH - 15 : training on 86008 raw words (1772 effective words) took 0.1s, 31254 effective words/s\n",
      "2019-03-29 11:40:30,641 : INFO : worker thread finished; awaiting finish of 9 more threads\n",
      "2019-03-29 11:40:30,643 : INFO : worker thread finished; awaiting finish of 8 more threads\n",
      "2019-03-29 11:40:30,650 : INFO : worker thread finished; awaiting finish of 7 more threads\n",
      "2019-03-29 11:40:30,652 : INFO : worker thread finished; awaiting finish of 6 more threads\n",
      "2019-03-29 11:40:30,660 : INFO : worker thread finished; awaiting finish of 5 more threads\n",
      "2019-03-29 11:40:30,663 : INFO : worker thread finished; awaiting finish of 4 more threads\n",
      "2019-03-29 11:40:30,667 : INFO : worker thread finished; awaiting finish of 3 more threads\n",
      "2019-03-29 11:40:30,670 : INFO : worker thread finished; awaiting finish of 2 more threads\n",
      "2019-03-29 11:40:30,673 : INFO : worker thread finished; awaiting finish of 1 more threads\n",
      "2019-03-29 11:40:30,675 : INFO : worker thread finished; awaiting finish of 0 more threads\n",
      "2019-03-29 11:40:30,678 : INFO : EPOCH - 16 : training on 86008 raw words (1846 effective words) took 0.0s, 48079 effective words/s\n",
      "2019-03-29 11:40:30,710 : INFO : worker thread finished; awaiting finish of 9 more threads\n",
      "2019-03-29 11:40:30,714 : INFO : worker thread finished; awaiting finish of 8 more threads\n",
      "2019-03-29 11:40:30,720 : INFO : worker thread finished; awaiting finish of 7 more threads\n",
      "2019-03-29 11:40:30,727 : INFO : worker thread finished; awaiting finish of 6 more threads\n",
      "2019-03-29 11:40:30,730 : INFO : worker thread finished; awaiting finish of 5 more threads\n",
      "2019-03-29 11:40:30,733 : INFO : worker thread finished; awaiting finish of 4 more threads\n",
      "2019-03-29 11:40:30,735 : INFO : worker thread finished; awaiting finish of 3 more threads\n",
      "2019-03-29 11:40:30,737 : INFO : worker thread finished; awaiting finish of 2 more threads\n",
      "2019-03-29 11:40:30,741 : INFO : worker thread finished; awaiting finish of 1 more threads\n",
      "2019-03-29 11:40:30,743 : INFO : worker thread finished; awaiting finish of 0 more threads\n",
      "2019-03-29 11:40:30,743 : INFO : EPOCH - 17 : training on 86008 raw words (1821 effective words) took 0.0s, 40658 effective words/s\n",
      "2019-03-29 11:40:30,753 : INFO : worker thread finished; awaiting finish of 9 more threads\n",
      "2019-03-29 11:40:30,758 : INFO : worker thread finished; awaiting finish of 8 more threads\n",
      "2019-03-29 11:40:30,762 : INFO : worker thread finished; awaiting finish of 7 more threads\n",
      "2019-03-29 11:40:30,764 : INFO : worker thread finished; awaiting finish of 6 more threads\n",
      "2019-03-29 11:40:30,766 : INFO : worker thread finished; awaiting finish of 5 more threads\n",
      "2019-03-29 11:40:30,767 : INFO : worker thread finished; awaiting finish of 4 more threads\n",
      "2019-03-29 11:40:30,771 : INFO : worker thread finished; awaiting finish of 3 more threads\n",
      "2019-03-29 11:40:30,775 : INFO : worker thread finished; awaiting finish of 2 more threads\n",
      "2019-03-29 11:40:30,780 : INFO : worker thread finished; awaiting finish of 1 more threads\n",
      "2019-03-29 11:40:30,782 : INFO : worker thread finished; awaiting finish of 0 more threads\n",
      "2019-03-29 11:40:30,793 : INFO : EPOCH - 18 : training on 86008 raw words (1848 effective words) took 0.0s, 43250 effective words/s\n",
      "2019-03-29 11:40:30,817 : INFO : worker thread finished; awaiting finish of 9 more threads\n",
      "2019-03-29 11:40:30,822 : INFO : worker thread finished; awaiting finish of 8 more threads\n",
      "2019-03-29 11:40:30,825 : INFO : worker thread finished; awaiting finish of 7 more threads\n",
      "2019-03-29 11:40:30,827 : INFO : worker thread finished; awaiting finish of 6 more threads\n",
      "2019-03-29 11:40:30,828 : INFO : worker thread finished; awaiting finish of 5 more threads\n",
      "2019-03-29 11:40:30,832 : INFO : worker thread finished; awaiting finish of 4 more threads\n",
      "2019-03-29 11:40:30,834 : INFO : worker thread finished; awaiting finish of 3 more threads\n",
      "2019-03-29 11:40:30,834 : INFO : worker thread finished; awaiting finish of 2 more threads\n",
      "2019-03-29 11:40:30,835 : INFO : worker thread finished; awaiting finish of 1 more threads\n",
      "2019-03-29 11:40:30,836 : INFO : worker thread finished; awaiting finish of 0 more threads\n",
      "2019-03-29 11:40:30,837 : INFO : EPOCH - 19 : training on 86008 raw words (1784 effective words) took 0.0s, 63869 effective words/s\n",
      "2019-03-29 11:40:30,855 : INFO : worker thread finished; awaiting finish of 9 more threads\n",
      "2019-03-29 11:40:30,858 : INFO : worker thread finished; awaiting finish of 8 more threads\n",
      "2019-03-29 11:40:30,860 : INFO : worker thread finished; awaiting finish of 7 more threads\n",
      "2019-03-29 11:40:30,862 : INFO : worker thread finished; awaiting finish of 6 more threads\n",
      "2019-03-29 11:40:30,864 : INFO : worker thread finished; awaiting finish of 5 more threads\n",
      "2019-03-29 11:40:30,866 : INFO : worker thread finished; awaiting finish of 4 more threads\n",
      "2019-03-29 11:40:30,867 : INFO : worker thread finished; awaiting finish of 3 more threads\n",
      "2019-03-29 11:40:30,868 : INFO : worker thread finished; awaiting finish of 2 more threads\n",
      "2019-03-29 11:40:30,869 : INFO : worker thread finished; awaiting finish of 1 more threads\n",
      "2019-03-29 11:40:30,869 : INFO : worker thread finished; awaiting finish of 0 more threads\n",
      "2019-03-29 11:40:30,870 : INFO : EPOCH - 20 : training on 86008 raw words (1761 effective words) took 0.0s, 108410 effective words/s\n",
      "2019-03-29 11:40:30,917 : INFO : worker thread finished; awaiting finish of 9 more threads\n",
      "2019-03-29 11:40:30,921 : INFO : worker thread finished; awaiting finish of 8 more threads\n",
      "2019-03-29 11:40:30,923 : INFO : worker thread finished; awaiting finish of 7 more threads\n",
      "2019-03-29 11:40:30,925 : INFO : worker thread finished; awaiting finish of 6 more threads\n",
      "2019-03-29 11:40:30,927 : INFO : worker thread finished; awaiting finish of 5 more threads\n",
      "2019-03-29 11:40:30,929 : INFO : worker thread finished; awaiting finish of 4 more threads\n",
      "2019-03-29 11:40:30,930 : INFO : worker thread finished; awaiting finish of 3 more threads\n",
      "2019-03-29 11:40:30,934 : INFO : worker thread finished; awaiting finish of 2 more threads\n",
      "2019-03-29 11:40:30,937 : INFO : worker thread finished; awaiting finish of 1 more threads\n",
      "2019-03-29 11:40:30,939 : INFO : worker thread finished; awaiting finish of 0 more threads\n",
      "2019-03-29 11:40:30,940 : INFO : EPOCH - 21 : training on 86008 raw words (1784 effective words) took 0.0s, 53143 effective words/s\n",
      "2019-03-29 11:40:30,961 : INFO : worker thread finished; awaiting finish of 9 more threads\n",
      "2019-03-29 11:40:30,987 : INFO : worker thread finished; awaiting finish of 8 more threads\n",
      "2019-03-29 11:40:30,995 : INFO : worker thread finished; awaiting finish of 7 more threads\n",
      "2019-03-29 11:40:30,998 : INFO : worker thread finished; awaiting finish of 6 more threads\n",
      "2019-03-29 11:40:31,000 : INFO : worker thread finished; awaiting finish of 5 more threads\n",
      "2019-03-29 11:40:31,001 : INFO : worker thread finished; awaiting finish of 4 more threads\n",
      "2019-03-29 11:40:31,004 : INFO : worker thread finished; awaiting finish of 3 more threads\n",
      "2019-03-29 11:40:31,013 : INFO : worker thread finished; awaiting finish of 2 more threads\n",
      "2019-03-29 11:40:31,017 : INFO : worker thread finished; awaiting finish of 1 more threads\n",
      "2019-03-29 11:40:31,025 : INFO : worker thread finished; awaiting finish of 0 more threads\n",
      "2019-03-29 11:40:31,028 : INFO : EPOCH - 22 : training on 86008 raw words (1821 effective words) took 0.1s, 26123 effective words/s\n",
      "2019-03-29 11:40:31,067 : INFO : worker thread finished; awaiting finish of 9 more threads\n",
      "2019-03-29 11:40:31,074 : INFO : worker thread finished; awaiting finish of 8 more threads\n",
      "2019-03-29 11:40:31,076 : INFO : worker thread finished; awaiting finish of 7 more threads\n",
      "2019-03-29 11:40:31,078 : INFO : worker thread finished; awaiting finish of 6 more threads\n",
      "2019-03-29 11:40:31,084 : INFO : worker thread finished; awaiting finish of 5 more threads\n",
      "2019-03-29 11:40:31,087 : INFO : worker thread finished; awaiting finish of 4 more threads\n"
     ]
    },
    {
     "name": "stderr",
     "output_type": "stream",
     "text": [
      "2019-03-29 11:40:31,088 : INFO : worker thread finished; awaiting finish of 3 more threads\n",
      "2019-03-29 11:40:31,090 : INFO : worker thread finished; awaiting finish of 2 more threads\n",
      "2019-03-29 11:40:31,092 : INFO : worker thread finished; awaiting finish of 1 more threads\n",
      "2019-03-29 11:40:31,100 : INFO : worker thread finished; awaiting finish of 0 more threads\n",
      "2019-03-29 11:40:31,104 : INFO : EPOCH - 23 : training on 86008 raw words (1802 effective words) took 0.0s, 38276 effective words/s\n",
      "2019-03-29 11:40:31,137 : INFO : worker thread finished; awaiting finish of 9 more threads\n",
      "2019-03-29 11:40:31,144 : INFO : worker thread finished; awaiting finish of 8 more threads\n",
      "2019-03-29 11:40:31,147 : INFO : worker thread finished; awaiting finish of 7 more threads\n",
      "2019-03-29 11:40:31,149 : INFO : worker thread finished; awaiting finish of 6 more threads\n",
      "2019-03-29 11:40:31,151 : INFO : worker thread finished; awaiting finish of 5 more threads\n",
      "2019-03-29 11:40:31,153 : INFO : worker thread finished; awaiting finish of 4 more threads\n",
      "2019-03-29 11:40:31,155 : INFO : worker thread finished; awaiting finish of 3 more threads\n",
      "2019-03-29 11:40:31,156 : INFO : worker thread finished; awaiting finish of 2 more threads\n",
      "2019-03-29 11:40:31,158 : INFO : worker thread finished; awaiting finish of 1 more threads\n",
      "2019-03-29 11:40:31,161 : INFO : worker thread finished; awaiting finish of 0 more threads\n",
      "2019-03-29 11:40:31,162 : INFO : EPOCH - 24 : training on 86008 raw words (1798 effective words) took 0.0s, 46164 effective words/s\n",
      "2019-03-29 11:40:31,199 : INFO : worker thread finished; awaiting finish of 9 more threads\n",
      "2019-03-29 11:40:31,201 : INFO : worker thread finished; awaiting finish of 8 more threads\n",
      "2019-03-29 11:40:31,205 : INFO : worker thread finished; awaiting finish of 7 more threads\n",
      "2019-03-29 11:40:31,210 : INFO : worker thread finished; awaiting finish of 6 more threads\n",
      "2019-03-29 11:40:31,215 : INFO : worker thread finished; awaiting finish of 5 more threads\n",
      "2019-03-29 11:40:31,217 : INFO : worker thread finished; awaiting finish of 4 more threads\n",
      "2019-03-29 11:40:31,220 : INFO : worker thread finished; awaiting finish of 3 more threads\n",
      "2019-03-29 11:40:31,224 : INFO : worker thread finished; awaiting finish of 2 more threads\n",
      "2019-03-29 11:40:31,228 : INFO : worker thread finished; awaiting finish of 1 more threads\n",
      "2019-03-29 11:40:31,238 : INFO : worker thread finished; awaiting finish of 0 more threads\n",
      "2019-03-29 11:40:31,241 : INFO : EPOCH - 25 : training on 86008 raw words (1778 effective words) took 0.0s, 39605 effective words/s\n",
      "2019-03-29 11:40:31,261 : INFO : worker thread finished; awaiting finish of 9 more threads\n",
      "2019-03-29 11:40:31,267 : INFO : worker thread finished; awaiting finish of 8 more threads\n",
      "2019-03-29 11:40:31,270 : INFO : worker thread finished; awaiting finish of 7 more threads\n",
      "2019-03-29 11:40:31,273 : INFO : worker thread finished; awaiting finish of 6 more threads\n",
      "2019-03-29 11:40:31,275 : INFO : worker thread finished; awaiting finish of 5 more threads\n",
      "2019-03-29 11:40:31,277 : INFO : worker thread finished; awaiting finish of 4 more threads\n",
      "2019-03-29 11:40:31,279 : INFO : worker thread finished; awaiting finish of 3 more threads\n",
      "2019-03-29 11:40:31,285 : INFO : worker thread finished; awaiting finish of 2 more threads\n",
      "2019-03-29 11:40:31,287 : INFO : worker thread finished; awaiting finish of 1 more threads\n",
      "2019-03-29 11:40:31,289 : INFO : worker thread finished; awaiting finish of 0 more threads\n",
      "2019-03-29 11:40:31,290 : INFO : EPOCH - 26 : training on 86008 raw words (1779 effective words) took 0.0s, 49874 effective words/s\n",
      "2019-03-29 11:40:31,360 : INFO : worker thread finished; awaiting finish of 9 more threads\n",
      "2019-03-29 11:40:31,363 : INFO : worker thread finished; awaiting finish of 8 more threads\n",
      "2019-03-29 11:40:31,366 : INFO : worker thread finished; awaiting finish of 7 more threads\n",
      "2019-03-29 11:40:31,367 : INFO : worker thread finished; awaiting finish of 6 more threads\n",
      "2019-03-29 11:40:31,372 : INFO : worker thread finished; awaiting finish of 5 more threads\n",
      "2019-03-29 11:40:31,377 : INFO : worker thread finished; awaiting finish of 4 more threads\n",
      "2019-03-29 11:40:31,388 : INFO : worker thread finished; awaiting finish of 3 more threads\n",
      "2019-03-29 11:40:31,393 : INFO : worker thread finished; awaiting finish of 2 more threads\n",
      "2019-03-29 11:40:31,396 : INFO : worker thread finished; awaiting finish of 1 more threads\n",
      "2019-03-29 11:40:31,398 : INFO : worker thread finished; awaiting finish of 0 more threads\n",
      "2019-03-29 11:40:31,402 : INFO : EPOCH - 27 : training on 86008 raw words (1729 effective words) took 0.1s, 29210 effective words/s\n",
      "2019-03-29 11:40:31,444 : INFO : worker thread finished; awaiting finish of 9 more threads\n",
      "2019-03-29 11:40:31,448 : INFO : worker thread finished; awaiting finish of 8 more threads\n",
      "2019-03-29 11:40:31,452 : INFO : worker thread finished; awaiting finish of 7 more threads\n",
      "2019-03-29 11:40:31,455 : INFO : worker thread finished; awaiting finish of 6 more threads\n",
      "2019-03-29 11:40:31,461 : INFO : worker thread finished; awaiting finish of 5 more threads\n",
      "2019-03-29 11:40:31,464 : INFO : worker thread finished; awaiting finish of 4 more threads\n",
      "2019-03-29 11:40:31,466 : INFO : worker thread finished; awaiting finish of 3 more threads\n",
      "2019-03-29 11:40:31,469 : INFO : worker thread finished; awaiting finish of 2 more threads\n",
      "2019-03-29 11:40:31,479 : INFO : worker thread finished; awaiting finish of 1 more threads\n",
      "2019-03-29 11:40:31,493 : INFO : worker thread finished; awaiting finish of 0 more threads\n",
      "2019-03-29 11:40:31,495 : INFO : EPOCH - 28 : training on 86008 raw words (1774 effective words) took 0.1s, 32910 effective words/s\n",
      "2019-03-29 11:40:31,523 : INFO : worker thread finished; awaiting finish of 9 more threads\n",
      "2019-03-29 11:40:31,526 : INFO : worker thread finished; awaiting finish of 8 more threads\n",
      "2019-03-29 11:40:31,528 : INFO : worker thread finished; awaiting finish of 7 more threads\n",
      "2019-03-29 11:40:31,530 : INFO : worker thread finished; awaiting finish of 6 more threads\n",
      "2019-03-29 11:40:31,532 : INFO : worker thread finished; awaiting finish of 5 more threads\n",
      "2019-03-29 11:40:31,534 : INFO : worker thread finished; awaiting finish of 4 more threads\n",
      "2019-03-29 11:40:31,535 : INFO : worker thread finished; awaiting finish of 3 more threads\n",
      "2019-03-29 11:40:31,537 : INFO : worker thread finished; awaiting finish of 2 more threads\n",
      "2019-03-29 11:40:31,544 : INFO : worker thread finished; awaiting finish of 1 more threads\n",
      "2019-03-29 11:40:31,549 : INFO : worker thread finished; awaiting finish of 0 more threads\n",
      "2019-03-29 11:40:31,552 : INFO : EPOCH - 29 : training on 86008 raw words (1810 effective words) took 0.0s, 36765 effective words/s\n",
      "2019-03-29 11:40:31,571 : INFO : worker thread finished; awaiting finish of 9 more threads\n",
      "2019-03-29 11:40:31,588 : INFO : worker thread finished; awaiting finish of 8 more threads\n",
      "2019-03-29 11:40:31,594 : INFO : worker thread finished; awaiting finish of 7 more threads\n",
      "2019-03-29 11:40:31,598 : INFO : worker thread finished; awaiting finish of 6 more threads\n",
      "2019-03-29 11:40:31,599 : INFO : worker thread finished; awaiting finish of 5 more threads\n",
      "2019-03-29 11:40:31,605 : INFO : worker thread finished; awaiting finish of 4 more threads\n",
      "2019-03-29 11:40:31,607 : INFO : worker thread finished; awaiting finish of 3 more threads\n",
      "2019-03-29 11:40:31,612 : INFO : worker thread finished; awaiting finish of 2 more threads\n",
      "2019-03-29 11:40:31,615 : INFO : worker thread finished; awaiting finish of 1 more threads\n",
      "2019-03-29 11:40:31,618 : INFO : worker thread finished; awaiting finish of 0 more threads\n",
      "2019-03-29 11:40:31,620 : INFO : EPOCH - 30 : training on 86008 raw words (1830 effective words) took 0.1s, 35580 effective words/s\n",
      "2019-03-29 11:40:31,636 : INFO : worker thread finished; awaiting finish of 9 more threads\n",
      "2019-03-29 11:40:31,638 : INFO : worker thread finished; awaiting finish of 8 more threads\n",
      "2019-03-29 11:40:31,641 : INFO : worker thread finished; awaiting finish of 7 more threads\n",
      "2019-03-29 11:40:31,652 : INFO : worker thread finished; awaiting finish of 6 more threads\n",
      "2019-03-29 11:40:31,653 : INFO : worker thread finished; awaiting finish of 5 more threads\n"
     ]
    },
    {
     "name": "stderr",
     "output_type": "stream",
     "text": [
      "2019-03-29 11:40:31,654 : INFO : worker thread finished; awaiting finish of 4 more threads\n",
      "2019-03-29 11:40:31,659 : INFO : worker thread finished; awaiting finish of 3 more threads\n",
      "2019-03-29 11:40:31,661 : INFO : worker thread finished; awaiting finish of 2 more threads\n",
      "2019-03-29 11:40:31,663 : INFO : worker thread finished; awaiting finish of 1 more threads\n",
      "2019-03-29 11:40:31,667 : INFO : worker thread finished; awaiting finish of 0 more threads\n",
      "2019-03-29 11:40:31,669 : INFO : EPOCH - 31 : training on 86008 raw words (1812 effective words) took 0.0s, 44374 effective words/s\n",
      "2019-03-29 11:40:31,721 : INFO : worker thread finished; awaiting finish of 9 more threads\n",
      "2019-03-29 11:40:31,726 : INFO : worker thread finished; awaiting finish of 8 more threads\n",
      "2019-03-29 11:40:31,728 : INFO : worker thread finished; awaiting finish of 7 more threads\n",
      "2019-03-29 11:40:31,735 : INFO : worker thread finished; awaiting finish of 6 more threads\n",
      "2019-03-29 11:40:31,740 : INFO : worker thread finished; awaiting finish of 5 more threads\n",
      "2019-03-29 11:40:31,742 : INFO : worker thread finished; awaiting finish of 4 more threads\n",
      "2019-03-29 11:40:31,744 : INFO : worker thread finished; awaiting finish of 3 more threads\n",
      "2019-03-29 11:40:31,747 : INFO : worker thread finished; awaiting finish of 2 more threads\n",
      "2019-03-29 11:40:31,749 : INFO : worker thread finished; awaiting finish of 1 more threads\n",
      "2019-03-29 11:40:31,754 : INFO : worker thread finished; awaiting finish of 0 more threads\n",
      "2019-03-29 11:40:31,760 : INFO : EPOCH - 32 : training on 86008 raw words (1771 effective words) took 0.0s, 41010 effective words/s\n",
      "2019-03-29 11:40:31,792 : INFO : worker thread finished; awaiting finish of 9 more threads\n",
      "2019-03-29 11:40:31,794 : INFO : worker thread finished; awaiting finish of 8 more threads\n",
      "2019-03-29 11:40:31,802 : INFO : worker thread finished; awaiting finish of 7 more threads\n",
      "2019-03-29 11:40:31,805 : INFO : worker thread finished; awaiting finish of 6 more threads\n",
      "2019-03-29 11:40:31,812 : INFO : worker thread finished; awaiting finish of 5 more threads\n",
      "2019-03-29 11:40:31,814 : INFO : worker thread finished; awaiting finish of 4 more threads\n",
      "2019-03-29 11:40:31,816 : INFO : worker thread finished; awaiting finish of 3 more threads\n",
      "2019-03-29 11:40:31,817 : INFO : worker thread finished; awaiting finish of 2 more threads\n",
      "2019-03-29 11:40:31,817 : INFO : worker thread finished; awaiting finish of 1 more threads\n",
      "2019-03-29 11:40:31,818 : INFO : worker thread finished; awaiting finish of 0 more threads\n",
      "2019-03-29 11:40:31,819 : INFO : EPOCH - 33 : training on 86008 raw words (1818 effective words) took 0.0s, 62204 effective words/s\n",
      "2019-03-29 11:40:31,840 : INFO : worker thread finished; awaiting finish of 9 more threads\n",
      "2019-03-29 11:40:31,845 : INFO : worker thread finished; awaiting finish of 8 more threads\n",
      "2019-03-29 11:40:31,849 : INFO : worker thread finished; awaiting finish of 7 more threads\n",
      "2019-03-29 11:40:31,851 : INFO : worker thread finished; awaiting finish of 6 more threads\n",
      "2019-03-29 11:40:31,853 : INFO : worker thread finished; awaiting finish of 5 more threads\n",
      "2019-03-29 11:40:31,855 : INFO : worker thread finished; awaiting finish of 4 more threads\n",
      "2019-03-29 11:40:31,857 : INFO : worker thread finished; awaiting finish of 3 more threads\n",
      "2019-03-29 11:40:31,858 : INFO : worker thread finished; awaiting finish of 2 more threads\n",
      "2019-03-29 11:40:31,859 : INFO : worker thread finished; awaiting finish of 1 more threads\n",
      "2019-03-29 11:40:31,859 : INFO : worker thread finished; awaiting finish of 0 more threads\n",
      "2019-03-29 11:40:31,860 : INFO : EPOCH - 34 : training on 86008 raw words (1791 effective words) took 0.0s, 87638 effective words/s\n",
      "2019-03-29 11:40:31,902 : INFO : worker thread finished; awaiting finish of 9 more threads\n",
      "2019-03-29 11:40:31,906 : INFO : worker thread finished; awaiting finish of 8 more threads\n",
      "2019-03-29 11:40:31,908 : INFO : worker thread finished; awaiting finish of 7 more threads\n",
      "2019-03-29 11:40:31,915 : INFO : worker thread finished; awaiting finish of 6 more threads\n",
      "2019-03-29 11:40:31,918 : INFO : worker thread finished; awaiting finish of 5 more threads\n",
      "2019-03-29 11:40:31,921 : INFO : worker thread finished; awaiting finish of 4 more threads\n",
      "2019-03-29 11:40:31,927 : INFO : worker thread finished; awaiting finish of 3 more threads\n",
      "2019-03-29 11:40:31,929 : INFO : worker thread finished; awaiting finish of 2 more threads\n",
      "2019-03-29 11:40:31,933 : INFO : worker thread finished; awaiting finish of 1 more threads\n",
      "2019-03-29 11:40:31,940 : INFO : worker thread finished; awaiting finish of 0 more threads\n",
      "2019-03-29 11:40:31,945 : INFO : EPOCH - 35 : training on 86008 raw words (1755 effective words) took 0.0s, 41139 effective words/s\n",
      "2019-03-29 11:40:31,956 : INFO : worker thread finished; awaiting finish of 9 more threads\n",
      "2019-03-29 11:40:31,961 : INFO : worker thread finished; awaiting finish of 8 more threads\n",
      "2019-03-29 11:40:31,966 : INFO : worker thread finished; awaiting finish of 7 more threads\n",
      "2019-03-29 11:40:31,968 : INFO : worker thread finished; awaiting finish of 6 more threads\n",
      "2019-03-29 11:40:31,970 : INFO : worker thread finished; awaiting finish of 5 more threads\n",
      "2019-03-29 11:40:31,975 : INFO : worker thread finished; awaiting finish of 4 more threads\n",
      "2019-03-29 11:40:31,979 : INFO : worker thread finished; awaiting finish of 3 more threads\n",
      "2019-03-29 11:40:31,981 : INFO : worker thread finished; awaiting finish of 2 more threads\n",
      "2019-03-29 11:40:31,988 : INFO : worker thread finished; awaiting finish of 1 more threads\n",
      "2019-03-29 11:40:32,001 : INFO : worker thread finished; awaiting finish of 0 more threads\n",
      "2019-03-29 11:40:32,003 : INFO : EPOCH - 36 : training on 86008 raw words (1787 effective words) took 0.0s, 36815 effective words/s\n",
      "2019-03-29 11:40:32,023 : INFO : worker thread finished; awaiting finish of 9 more threads\n",
      "2019-03-29 11:40:32,029 : INFO : worker thread finished; awaiting finish of 8 more threads\n",
      "2019-03-29 11:40:32,035 : INFO : worker thread finished; awaiting finish of 7 more threads\n",
      "2019-03-29 11:40:32,037 : INFO : worker thread finished; awaiting finish of 6 more threads\n",
      "2019-03-29 11:40:32,041 : INFO : worker thread finished; awaiting finish of 5 more threads\n",
      "2019-03-29 11:40:32,042 : INFO : worker thread finished; awaiting finish of 4 more threads\n",
      "2019-03-29 11:40:32,043 : INFO : worker thread finished; awaiting finish of 3 more threads\n",
      "2019-03-29 11:40:32,044 : INFO : worker thread finished; awaiting finish of 2 more threads\n",
      "2019-03-29 11:40:32,045 : INFO : worker thread finished; awaiting finish of 1 more threads\n",
      "2019-03-29 11:40:32,045 : INFO : worker thread finished; awaiting finish of 0 more threads\n",
      "2019-03-29 11:40:32,047 : INFO : EPOCH - 37 : training on 86008 raw words (1746 effective words) took 0.0s, 65727 effective words/s\n",
      "2019-03-29 11:40:32,060 : INFO : worker thread finished; awaiting finish of 9 more threads\n",
      "2019-03-29 11:40:32,063 : INFO : worker thread finished; awaiting finish of 8 more threads\n",
      "2019-03-29 11:40:32,066 : INFO : worker thread finished; awaiting finish of 7 more threads\n",
      "2019-03-29 11:40:32,072 : INFO : worker thread finished; awaiting finish of 6 more threads\n",
      "2019-03-29 11:40:32,075 : INFO : worker thread finished; awaiting finish of 5 more threads\n",
      "2019-03-29 11:40:32,078 : INFO : worker thread finished; awaiting finish of 4 more threads\n",
      "2019-03-29 11:40:32,081 : INFO : worker thread finished; awaiting finish of 3 more threads\n",
      "2019-03-29 11:40:32,090 : INFO : worker thread finished; awaiting finish of 2 more threads\n",
      "2019-03-29 11:40:32,095 : INFO : worker thread finished; awaiting finish of 1 more threads\n",
      "2019-03-29 11:40:32,100 : INFO : worker thread finished; awaiting finish of 0 more threads\n",
      "2019-03-29 11:40:32,102 : INFO : EPOCH - 38 : training on 86008 raw words (1796 effective words) took 0.0s, 41069 effective words/s\n",
      "2019-03-29 11:40:32,118 : INFO : worker thread finished; awaiting finish of 9 more threads\n",
      "2019-03-29 11:40:32,126 : INFO : worker thread finished; awaiting finish of 8 more threads\n",
      "2019-03-29 11:40:32,130 : INFO : worker thread finished; awaiting finish of 7 more threads\n",
      "2019-03-29 11:40:32,134 : INFO : worker thread finished; awaiting finish of 6 more threads\n"
     ]
    },
    {
     "name": "stderr",
     "output_type": "stream",
     "text": [
      "2019-03-29 11:40:32,136 : INFO : worker thread finished; awaiting finish of 5 more threads\n",
      "2019-03-29 11:40:32,139 : INFO : worker thread finished; awaiting finish of 4 more threads\n",
      "2019-03-29 11:40:32,143 : INFO : worker thread finished; awaiting finish of 3 more threads\n",
      "2019-03-29 11:40:32,144 : INFO : worker thread finished; awaiting finish of 2 more threads\n",
      "2019-03-29 11:40:32,145 : INFO : worker thread finished; awaiting finish of 1 more threads\n",
      "2019-03-29 11:40:32,146 : INFO : worker thread finished; awaiting finish of 0 more threads\n",
      "2019-03-29 11:40:32,147 : INFO : EPOCH - 39 : training on 86008 raw words (1783 effective words) took 0.0s, 46411 effective words/s\n",
      "2019-03-29 11:40:32,167 : INFO : worker thread finished; awaiting finish of 9 more threads\n",
      "2019-03-29 11:40:32,170 : INFO : worker thread finished; awaiting finish of 8 more threads\n",
      "2019-03-29 11:40:32,172 : INFO : worker thread finished; awaiting finish of 7 more threads\n",
      "2019-03-29 11:40:32,178 : INFO : worker thread finished; awaiting finish of 6 more threads\n",
      "2019-03-29 11:40:32,180 : INFO : worker thread finished; awaiting finish of 5 more threads\n",
      "2019-03-29 11:40:32,181 : INFO : worker thread finished; awaiting finish of 4 more threads\n",
      "2019-03-29 11:40:32,191 : INFO : worker thread finished; awaiting finish of 3 more threads\n",
      "2019-03-29 11:40:32,194 : INFO : worker thread finished; awaiting finish of 2 more threads\n",
      "2019-03-29 11:40:32,196 : INFO : worker thread finished; awaiting finish of 1 more threads\n",
      "2019-03-29 11:40:32,197 : INFO : worker thread finished; awaiting finish of 0 more threads\n",
      "2019-03-29 11:40:32,199 : INFO : EPOCH - 40 : training on 86008 raw words (1800 effective words) took 0.0s, 55864 effective words/s\n",
      "2019-03-29 11:40:32,220 : INFO : worker thread finished; awaiting finish of 9 more threads\n",
      "2019-03-29 11:40:32,225 : INFO : worker thread finished; awaiting finish of 8 more threads\n",
      "2019-03-29 11:40:32,226 : INFO : worker thread finished; awaiting finish of 7 more threads\n",
      "2019-03-29 11:40:32,232 : INFO : worker thread finished; awaiting finish of 6 more threads\n",
      "2019-03-29 11:40:32,234 : INFO : worker thread finished; awaiting finish of 5 more threads\n",
      "2019-03-29 11:40:32,236 : INFO : worker thread finished; awaiting finish of 4 more threads\n",
      "2019-03-29 11:40:32,237 : INFO : worker thread finished; awaiting finish of 3 more threads\n",
      "2019-03-29 11:40:32,238 : INFO : worker thread finished; awaiting finish of 2 more threads\n",
      "2019-03-29 11:40:32,239 : INFO : worker thread finished; awaiting finish of 1 more threads\n",
      "2019-03-29 11:40:32,240 : INFO : worker thread finished; awaiting finish of 0 more threads\n",
      "2019-03-29 11:40:32,241 : INFO : EPOCH - 41 : training on 86008 raw words (1766 effective words) took 0.0s, 76291 effective words/s\n",
      "2019-03-29 11:40:32,262 : INFO : worker thread finished; awaiting finish of 9 more threads\n",
      "2019-03-29 11:40:32,268 : INFO : worker thread finished; awaiting finish of 8 more threads\n",
      "2019-03-29 11:40:32,270 : INFO : worker thread finished; awaiting finish of 7 more threads\n",
      "2019-03-29 11:40:32,272 : INFO : worker thread finished; awaiting finish of 6 more threads\n",
      "2019-03-29 11:40:32,275 : INFO : worker thread finished; awaiting finish of 5 more threads\n",
      "2019-03-29 11:40:32,279 : INFO : worker thread finished; awaiting finish of 4 more threads\n",
      "2019-03-29 11:40:32,291 : INFO : worker thread finished; awaiting finish of 3 more threads\n",
      "2019-03-29 11:40:32,292 : INFO : worker thread finished; awaiting finish of 2 more threads\n",
      "2019-03-29 11:40:32,296 : INFO : worker thread finished; awaiting finish of 1 more threads\n",
      "2019-03-29 11:40:32,299 : INFO : worker thread finished; awaiting finish of 0 more threads\n",
      "2019-03-29 11:40:32,304 : INFO : EPOCH - 42 : training on 86008 raw words (1760 effective words) took 0.1s, 33087 effective words/s\n",
      "2019-03-29 11:40:32,321 : INFO : worker thread finished; awaiting finish of 9 more threads\n",
      "2019-03-29 11:40:32,325 : INFO : worker thread finished; awaiting finish of 8 more threads\n",
      "2019-03-29 11:40:32,331 : INFO : worker thread finished; awaiting finish of 7 more threads\n",
      "2019-03-29 11:40:32,333 : INFO : worker thread finished; awaiting finish of 6 more threads\n",
      "2019-03-29 11:40:32,335 : INFO : worker thread finished; awaiting finish of 5 more threads\n",
      "2019-03-29 11:40:32,337 : INFO : worker thread finished; awaiting finish of 4 more threads\n",
      "2019-03-29 11:40:32,339 : INFO : worker thread finished; awaiting finish of 3 more threads\n",
      "2019-03-29 11:40:32,341 : INFO : worker thread finished; awaiting finish of 2 more threads\n",
      "2019-03-29 11:40:32,343 : INFO : worker thread finished; awaiting finish of 1 more threads\n",
      "2019-03-29 11:40:32,344 : INFO : worker thread finished; awaiting finish of 0 more threads\n",
      "2019-03-29 11:40:32,345 : INFO : EPOCH - 43 : training on 86008 raw words (1764 effective words) took 0.0s, 68132 effective words/s\n",
      "2019-03-29 11:40:32,359 : INFO : worker thread finished; awaiting finish of 9 more threads\n",
      "2019-03-29 11:40:32,362 : INFO : worker thread finished; awaiting finish of 8 more threads\n",
      "2019-03-29 11:40:32,365 : INFO : worker thread finished; awaiting finish of 7 more threads\n",
      "2019-03-29 11:40:32,381 : INFO : worker thread finished; awaiting finish of 6 more threads\n",
      "2019-03-29 11:40:32,393 : INFO : worker thread finished; awaiting finish of 5 more threads\n",
      "2019-03-29 11:40:32,396 : INFO : worker thread finished; awaiting finish of 4 more threads\n",
      "2019-03-29 11:40:32,401 : INFO : worker thread finished; awaiting finish of 3 more threads\n",
      "2019-03-29 11:40:32,404 : INFO : worker thread finished; awaiting finish of 2 more threads\n",
      "2019-03-29 11:40:32,411 : INFO : worker thread finished; awaiting finish of 1 more threads\n",
      "2019-03-29 11:40:32,414 : INFO : worker thread finished; awaiting finish of 0 more threads\n",
      "2019-03-29 11:40:32,419 : INFO : EPOCH - 44 : training on 86008 raw words (1772 effective words) took 0.1s, 27388 effective words/s\n",
      "2019-03-29 11:40:32,431 : INFO : worker thread finished; awaiting finish of 9 more threads\n",
      "2019-03-29 11:40:32,434 : INFO : worker thread finished; awaiting finish of 8 more threads\n",
      "2019-03-29 11:40:32,437 : INFO : worker thread finished; awaiting finish of 7 more threads\n",
      "2019-03-29 11:40:32,440 : INFO : worker thread finished; awaiting finish of 6 more threads\n",
      "2019-03-29 11:40:32,443 : INFO : worker thread finished; awaiting finish of 5 more threads\n",
      "2019-03-29 11:40:32,445 : INFO : worker thread finished; awaiting finish of 4 more threads\n",
      "2019-03-29 11:40:32,448 : INFO : worker thread finished; awaiting finish of 3 more threads\n",
      "2019-03-29 11:40:32,452 : INFO : worker thread finished; awaiting finish of 2 more threads\n",
      "2019-03-29 11:40:32,458 : INFO : worker thread finished; awaiting finish of 1 more threads\n",
      "2019-03-29 11:40:32,459 : INFO : worker thread finished; awaiting finish of 0 more threads\n",
      "2019-03-29 11:40:32,460 : INFO : EPOCH - 45 : training on 86008 raw words (1776 effective words) took 0.0s, 50729 effective words/s\n",
      "2019-03-29 11:40:32,491 : INFO : worker thread finished; awaiting finish of 9 more threads\n",
      "2019-03-29 11:40:32,495 : INFO : worker thread finished; awaiting finish of 8 more threads\n",
      "2019-03-29 11:40:32,498 : INFO : worker thread finished; awaiting finish of 7 more threads\n",
      "2019-03-29 11:40:32,501 : INFO : worker thread finished; awaiting finish of 6 more threads\n",
      "2019-03-29 11:40:32,503 : INFO : worker thread finished; awaiting finish of 5 more threads\n",
      "2019-03-29 11:40:32,506 : INFO : worker thread finished; awaiting finish of 4 more threads\n",
      "2019-03-29 11:40:32,510 : INFO : worker thread finished; awaiting finish of 3 more threads\n",
      "2019-03-29 11:40:32,512 : INFO : worker thread finished; awaiting finish of 2 more threads\n",
      "2019-03-29 11:40:32,513 : INFO : worker thread finished; awaiting finish of 1 more threads\n",
      "2019-03-29 11:40:32,514 : INFO : worker thread finished; awaiting finish of 0 more threads\n",
      "2019-03-29 11:40:32,515 : INFO : EPOCH - 46 : training on 86008 raw words (1767 effective words) took 0.0s, 40434 effective words/s\n",
      "2019-03-29 11:40:32,527 : INFO : worker thread finished; awaiting finish of 9 more threads\n",
      "2019-03-29 11:40:32,529 : INFO : worker thread finished; awaiting finish of 8 more threads\n",
      "2019-03-29 11:40:32,538 : INFO : worker thread finished; awaiting finish of 7 more threads\n"
     ]
    },
    {
     "name": "stderr",
     "output_type": "stream",
     "text": [
      "2019-03-29 11:40:32,540 : INFO : worker thread finished; awaiting finish of 6 more threads\n",
      "2019-03-29 11:40:32,542 : INFO : worker thread finished; awaiting finish of 5 more threads\n",
      "2019-03-29 11:40:32,544 : INFO : worker thread finished; awaiting finish of 4 more threads\n",
      "2019-03-29 11:40:32,546 : INFO : worker thread finished; awaiting finish of 3 more threads\n",
      "2019-03-29 11:40:32,548 : INFO : worker thread finished; awaiting finish of 2 more threads\n",
      "2019-03-29 11:40:32,552 : INFO : worker thread finished; awaiting finish of 1 more threads\n",
      "2019-03-29 11:40:32,553 : INFO : worker thread finished; awaiting finish of 0 more threads\n",
      "2019-03-29 11:40:32,556 : INFO : EPOCH - 47 : training on 86008 raw words (1790 effective words) took 0.0s, 59150 effective words/s\n",
      "2019-03-29 11:40:32,571 : INFO : worker thread finished; awaiting finish of 9 more threads\n",
      "2019-03-29 11:40:32,582 : INFO : worker thread finished; awaiting finish of 8 more threads\n",
      "2019-03-29 11:40:32,587 : INFO : worker thread finished; awaiting finish of 7 more threads\n",
      "2019-03-29 11:40:32,590 : INFO : worker thread finished; awaiting finish of 6 more threads\n",
      "2019-03-29 11:40:32,599 : INFO : worker thread finished; awaiting finish of 5 more threads\n",
      "2019-03-29 11:40:32,601 : INFO : worker thread finished; awaiting finish of 4 more threads\n",
      "2019-03-29 11:40:32,603 : INFO : worker thread finished; awaiting finish of 3 more threads\n",
      "2019-03-29 11:40:32,606 : INFO : worker thread finished; awaiting finish of 2 more threads\n",
      "2019-03-29 11:40:32,610 : INFO : worker thread finished; awaiting finish of 1 more threads\n",
      "2019-03-29 11:40:32,615 : INFO : worker thread finished; awaiting finish of 0 more threads\n",
      "2019-03-29 11:40:32,617 : INFO : EPOCH - 48 : training on 86008 raw words (1808 effective words) took 0.0s, 36233 effective words/s\n",
      "2019-03-29 11:40:32,630 : INFO : worker thread finished; awaiting finish of 9 more threads\n",
      "2019-03-29 11:40:32,638 : INFO : worker thread finished; awaiting finish of 8 more threads\n",
      "2019-03-29 11:40:32,641 : INFO : worker thread finished; awaiting finish of 7 more threads\n",
      "2019-03-29 11:40:32,646 : INFO : worker thread finished; awaiting finish of 6 more threads\n",
      "2019-03-29 11:40:32,650 : INFO : worker thread finished; awaiting finish of 5 more threads\n",
      "2019-03-29 11:40:32,654 : INFO : worker thread finished; awaiting finish of 4 more threads\n",
      "2019-03-29 11:40:32,661 : INFO : worker thread finished; awaiting finish of 3 more threads\n",
      "2019-03-29 11:40:32,665 : INFO : worker thread finished; awaiting finish of 2 more threads\n",
      "2019-03-29 11:40:32,669 : INFO : worker thread finished; awaiting finish of 1 more threads\n",
      "2019-03-29 11:40:32,673 : INFO : worker thread finished; awaiting finish of 0 more threads\n",
      "2019-03-29 11:40:32,678 : INFO : EPOCH - 49 : training on 86008 raw words (1815 effective words) took 0.1s, 35302 effective words/s\n",
      "2019-03-29 11:40:32,697 : INFO : worker thread finished; awaiting finish of 9 more threads\n",
      "2019-03-29 11:40:32,704 : INFO : worker thread finished; awaiting finish of 8 more threads\n",
      "2019-03-29 11:40:32,708 : INFO : worker thread finished; awaiting finish of 7 more threads\n",
      "2019-03-29 11:40:32,714 : INFO : worker thread finished; awaiting finish of 6 more threads\n",
      "2019-03-29 11:40:32,717 : INFO : worker thread finished; awaiting finish of 5 more threads\n",
      "2019-03-29 11:40:32,720 : INFO : worker thread finished; awaiting finish of 4 more threads\n",
      "2019-03-29 11:40:32,725 : INFO : worker thread finished; awaiting finish of 3 more threads\n",
      "2019-03-29 11:40:32,728 : INFO : worker thread finished; awaiting finish of 2 more threads\n",
      "2019-03-29 11:40:32,733 : INFO : worker thread finished; awaiting finish of 1 more threads\n",
      "2019-03-29 11:40:32,736 : INFO : worker thread finished; awaiting finish of 0 more threads\n",
      "2019-03-29 11:40:32,737 : INFO : EPOCH - 50 : training on 86008 raw words (1834 effective words) took 0.0s, 43948 effective words/s\n",
      "2019-03-29 11:40:32,750 : INFO : worker thread finished; awaiting finish of 9 more threads\n",
      "2019-03-29 11:40:32,756 : INFO : worker thread finished; awaiting finish of 8 more threads\n",
      "2019-03-29 11:40:32,757 : INFO : worker thread finished; awaiting finish of 7 more threads\n",
      "2019-03-29 11:40:32,760 : INFO : worker thread finished; awaiting finish of 6 more threads\n",
      "2019-03-29 11:40:32,763 : INFO : worker thread finished; awaiting finish of 5 more threads\n",
      "2019-03-29 11:40:32,764 : INFO : worker thread finished; awaiting finish of 4 more threads\n",
      "2019-03-29 11:40:32,768 : INFO : worker thread finished; awaiting finish of 3 more threads\n",
      "2019-03-29 11:40:32,776 : INFO : worker thread finished; awaiting finish of 2 more threads\n",
      "2019-03-29 11:40:32,778 : INFO : worker thread finished; awaiting finish of 1 more threads\n",
      "2019-03-29 11:40:32,787 : INFO : worker thread finished; awaiting finish of 0 more threads\n",
      "2019-03-29 11:40:32,789 : INFO : EPOCH - 51 : training on 86008 raw words (1804 effective words) took 0.0s, 40425 effective words/s\n",
      "2019-03-29 11:40:32,809 : INFO : worker thread finished; awaiting finish of 9 more threads\n",
      "2019-03-29 11:40:32,813 : INFO : worker thread finished; awaiting finish of 8 more threads\n",
      "2019-03-29 11:40:32,820 : INFO : worker thread finished; awaiting finish of 7 more threads\n",
      "2019-03-29 11:40:32,822 : INFO : worker thread finished; awaiting finish of 6 more threads\n",
      "2019-03-29 11:40:32,825 : INFO : worker thread finished; awaiting finish of 5 more threads\n",
      "2019-03-29 11:40:32,831 : INFO : worker thread finished; awaiting finish of 4 more threads\n",
      "2019-03-29 11:40:32,834 : INFO : worker thread finished; awaiting finish of 3 more threads\n",
      "2019-03-29 11:40:32,836 : INFO : worker thread finished; awaiting finish of 2 more threads\n",
      "2019-03-29 11:40:32,838 : INFO : worker thread finished; awaiting finish of 1 more threads\n",
      "2019-03-29 11:40:32,840 : INFO : worker thread finished; awaiting finish of 0 more threads\n",
      "2019-03-29 11:40:32,841 : INFO : EPOCH - 52 : training on 86008 raw words (1761 effective words) took 0.0s, 53312 effective words/s\n",
      "2019-03-29 11:40:32,851 : INFO : worker thread finished; awaiting finish of 9 more threads\n",
      "2019-03-29 11:40:32,857 : INFO : worker thread finished; awaiting finish of 8 more threads\n",
      "2019-03-29 11:40:32,859 : INFO : worker thread finished; awaiting finish of 7 more threads\n",
      "2019-03-29 11:40:32,861 : INFO : worker thread finished; awaiting finish of 6 more threads\n",
      "2019-03-29 11:40:32,865 : INFO : worker thread finished; awaiting finish of 5 more threads\n",
      "2019-03-29 11:40:32,869 : INFO : worker thread finished; awaiting finish of 4 more threads\n",
      "2019-03-29 11:40:32,871 : INFO : worker thread finished; awaiting finish of 3 more threads\n",
      "2019-03-29 11:40:32,877 : INFO : worker thread finished; awaiting finish of 2 more threads\n",
      "2019-03-29 11:40:32,883 : INFO : worker thread finished; awaiting finish of 1 more threads\n",
      "2019-03-29 11:40:32,889 : INFO : worker thread finished; awaiting finish of 0 more threads\n",
      "2019-03-29 11:40:32,891 : INFO : EPOCH - 53 : training on 86008 raw words (1767 effective words) took 0.0s, 44375 effective words/s\n",
      "2019-03-29 11:40:32,914 : INFO : worker thread finished; awaiting finish of 9 more threads\n",
      "2019-03-29 11:40:32,919 : INFO : worker thread finished; awaiting finish of 8 more threads\n",
      "2019-03-29 11:40:32,921 : INFO : worker thread finished; awaiting finish of 7 more threads\n",
      "2019-03-29 11:40:32,927 : INFO : worker thread finished; awaiting finish of 6 more threads\n",
      "2019-03-29 11:40:32,931 : INFO : worker thread finished; awaiting finish of 5 more threads\n",
      "2019-03-29 11:40:32,934 : INFO : worker thread finished; awaiting finish of 4 more threads\n",
      "2019-03-29 11:40:32,937 : INFO : worker thread finished; awaiting finish of 3 more threads\n",
      "2019-03-29 11:40:32,940 : INFO : worker thread finished; awaiting finish of 2 more threads\n",
      "2019-03-29 11:40:32,945 : INFO : worker thread finished; awaiting finish of 1 more threads\n",
      "2019-03-29 11:40:32,946 : INFO : worker thread finished; awaiting finish of 0 more threads\n",
      "2019-03-29 11:40:32,948 : INFO : EPOCH - 54 : training on 86008 raw words (1775 effective words) took 0.0s, 52516 effective words/s\n",
      "2019-03-29 11:40:32,960 : INFO : worker thread finished; awaiting finish of 9 more threads\n",
      "2019-03-29 11:40:32,964 : INFO : worker thread finished; awaiting finish of 8 more threads\n"
     ]
    },
    {
     "name": "stderr",
     "output_type": "stream",
     "text": [
      "2019-03-29 11:40:32,967 : INFO : worker thread finished; awaiting finish of 7 more threads\n",
      "2019-03-29 11:40:32,975 : INFO : worker thread finished; awaiting finish of 6 more threads\n",
      "2019-03-29 11:40:32,979 : INFO : worker thread finished; awaiting finish of 5 more threads\n",
      "2019-03-29 11:40:32,982 : INFO : worker thread finished; awaiting finish of 4 more threads\n",
      "2019-03-29 11:40:33,002 : INFO : worker thread finished; awaiting finish of 3 more threads\n",
      "2019-03-29 11:40:33,005 : INFO : worker thread finished; awaiting finish of 2 more threads\n",
      "2019-03-29 11:40:33,006 : INFO : worker thread finished; awaiting finish of 1 more threads\n",
      "2019-03-29 11:40:33,007 : INFO : worker thread finished; awaiting finish of 0 more threads\n",
      "2019-03-29 11:40:33,008 : INFO : EPOCH - 55 : training on 86008 raw words (1770 effective words) took 0.1s, 34785 effective words/s\n",
      "2019-03-29 11:40:33,020 : INFO : worker thread finished; awaiting finish of 9 more threads\n",
      "2019-03-29 11:40:33,025 : INFO : worker thread finished; awaiting finish of 8 more threads\n",
      "2019-03-29 11:40:33,027 : INFO : worker thread finished; awaiting finish of 7 more threads\n",
      "2019-03-29 11:40:33,029 : INFO : worker thread finished; awaiting finish of 6 more threads\n",
      "2019-03-29 11:40:33,034 : INFO : worker thread finished; awaiting finish of 5 more threads\n",
      "2019-03-29 11:40:33,037 : INFO : worker thread finished; awaiting finish of 4 more threads\n",
      "2019-03-29 11:40:33,039 : INFO : worker thread finished; awaiting finish of 3 more threads\n",
      "2019-03-29 11:40:33,043 : INFO : worker thread finished; awaiting finish of 2 more threads\n",
      "2019-03-29 11:40:33,045 : INFO : worker thread finished; awaiting finish of 1 more threads\n",
      "2019-03-29 11:40:33,050 : INFO : worker thread finished; awaiting finish of 0 more threads\n",
      "2019-03-29 11:40:33,051 : INFO : EPOCH - 56 : training on 86008 raw words (1770 effective words) took 0.0s, 55343 effective words/s\n",
      "2019-03-29 11:40:33,068 : INFO : worker thread finished; awaiting finish of 9 more threads\n",
      "2019-03-29 11:40:33,071 : INFO : worker thread finished; awaiting finish of 8 more threads\n",
      "2019-03-29 11:40:33,073 : INFO : worker thread finished; awaiting finish of 7 more threads\n",
      "2019-03-29 11:40:33,077 : INFO : worker thread finished; awaiting finish of 6 more threads\n",
      "2019-03-29 11:40:33,079 : INFO : worker thread finished; awaiting finish of 5 more threads\n",
      "2019-03-29 11:40:33,089 : INFO : worker thread finished; awaiting finish of 4 more threads\n",
      "2019-03-29 11:40:33,092 : INFO : worker thread finished; awaiting finish of 3 more threads\n",
      "2019-03-29 11:40:33,096 : INFO : worker thread finished; awaiting finish of 2 more threads\n",
      "2019-03-29 11:40:33,098 : INFO : worker thread finished; awaiting finish of 1 more threads\n",
      "2019-03-29 11:40:33,101 : INFO : worker thread finished; awaiting finish of 0 more threads\n",
      "2019-03-29 11:40:33,104 : INFO : EPOCH - 57 : training on 86008 raw words (1758 effective words) took 0.0s, 39157 effective words/s\n",
      "2019-03-29 11:40:33,125 : INFO : worker thread finished; awaiting finish of 9 more threads\n",
      "2019-03-29 11:40:33,130 : INFO : worker thread finished; awaiting finish of 8 more threads\n",
      "2019-03-29 11:40:33,134 : INFO : worker thread finished; awaiting finish of 7 more threads\n",
      "2019-03-29 11:40:33,135 : INFO : worker thread finished; awaiting finish of 6 more threads\n",
      "2019-03-29 11:40:33,138 : INFO : worker thread finished; awaiting finish of 5 more threads\n",
      "2019-03-29 11:40:33,139 : INFO : worker thread finished; awaiting finish of 4 more threads\n",
      "2019-03-29 11:40:33,141 : INFO : worker thread finished; awaiting finish of 3 more threads\n",
      "2019-03-29 11:40:33,143 : INFO : worker thread finished; awaiting finish of 2 more threads\n",
      "2019-03-29 11:40:33,144 : INFO : worker thread finished; awaiting finish of 1 more threads\n",
      "2019-03-29 11:40:33,144 : INFO : worker thread finished; awaiting finish of 0 more threads\n",
      "2019-03-29 11:40:33,146 : INFO : EPOCH - 58 : training on 86008 raw words (1757 effective words) took 0.0s, 55068 effective words/s\n",
      "2019-03-29 11:40:33,162 : INFO : worker thread finished; awaiting finish of 9 more threads\n",
      "2019-03-29 11:40:33,169 : INFO : worker thread finished; awaiting finish of 8 more threads\n",
      "2019-03-29 11:40:33,178 : INFO : worker thread finished; awaiting finish of 7 more threads\n",
      "2019-03-29 11:40:33,179 : INFO : worker thread finished; awaiting finish of 6 more threads\n",
      "2019-03-29 11:40:33,189 : INFO : worker thread finished; awaiting finish of 5 more threads\n",
      "2019-03-29 11:40:33,199 : INFO : worker thread finished; awaiting finish of 4 more threads\n",
      "2019-03-29 11:40:33,202 : INFO : worker thread finished; awaiting finish of 3 more threads\n",
      "2019-03-29 11:40:33,205 : INFO : worker thread finished; awaiting finish of 2 more threads\n",
      "2019-03-29 11:40:33,212 : INFO : worker thread finished; awaiting finish of 1 more threads\n",
      "2019-03-29 11:40:33,222 : INFO : worker thread finished; awaiting finish of 0 more threads\n",
      "2019-03-29 11:40:33,224 : INFO : EPOCH - 59 : training on 86008 raw words (1750 effective words) took 0.1s, 26897 effective words/s\n",
      "2019-03-29 11:40:33,235 : INFO : worker thread finished; awaiting finish of 9 more threads\n",
      "2019-03-29 11:40:33,240 : INFO : worker thread finished; awaiting finish of 8 more threads\n",
      "2019-03-29 11:40:33,245 : INFO : worker thread finished; awaiting finish of 7 more threads\n",
      "2019-03-29 11:40:33,247 : INFO : worker thread finished; awaiting finish of 6 more threads\n",
      "2019-03-29 11:40:33,249 : INFO : worker thread finished; awaiting finish of 5 more threads\n",
      "2019-03-29 11:40:33,251 : INFO : worker thread finished; awaiting finish of 4 more threads\n",
      "2019-03-29 11:40:33,253 : INFO : worker thread finished; awaiting finish of 3 more threads\n",
      "2019-03-29 11:40:33,254 : INFO : worker thread finished; awaiting finish of 2 more threads\n",
      "2019-03-29 11:40:33,256 : INFO : worker thread finished; awaiting finish of 1 more threads\n",
      "2019-03-29 11:40:33,257 : INFO : worker thread finished; awaiting finish of 0 more threads\n",
      "2019-03-29 11:40:33,259 : INFO : EPOCH - 60 : training on 86008 raw words (1751 effective words) took 0.0s, 68217 effective words/s\n",
      "2019-03-29 11:40:33,304 : INFO : worker thread finished; awaiting finish of 9 more threads\n",
      "2019-03-29 11:40:33,307 : INFO : worker thread finished; awaiting finish of 8 more threads\n",
      "2019-03-29 11:40:33,309 : INFO : worker thread finished; awaiting finish of 7 more threads\n",
      "2019-03-29 11:40:33,311 : INFO : worker thread finished; awaiting finish of 6 more threads\n",
      "2019-03-29 11:40:33,312 : INFO : worker thread finished; awaiting finish of 5 more threads\n",
      "2019-03-29 11:40:33,314 : INFO : worker thread finished; awaiting finish of 4 more threads\n",
      "2019-03-29 11:40:33,316 : INFO : worker thread finished; awaiting finish of 3 more threads\n",
      "2019-03-29 11:40:33,318 : INFO : worker thread finished; awaiting finish of 2 more threads\n",
      "2019-03-29 11:40:33,320 : INFO : worker thread finished; awaiting finish of 1 more threads\n",
      "2019-03-29 11:40:33,322 : INFO : worker thread finished; awaiting finish of 0 more threads\n",
      "2019-03-29 11:40:33,324 : INFO : EPOCH - 61 : training on 86008 raw words (1775 effective words) took 0.0s, 86060 effective words/s\n",
      "2019-03-29 11:40:33,336 : INFO : worker thread finished; awaiting finish of 9 more threads\n",
      "2019-03-29 11:40:33,338 : INFO : worker thread finished; awaiting finish of 8 more threads\n",
      "2019-03-29 11:40:33,344 : INFO : worker thread finished; awaiting finish of 7 more threads\n",
      "2019-03-29 11:40:33,345 : INFO : worker thread finished; awaiting finish of 6 more threads\n",
      "2019-03-29 11:40:33,346 : INFO : worker thread finished; awaiting finish of 5 more threads\n",
      "2019-03-29 11:40:33,347 : INFO : worker thread finished; awaiting finish of 4 more threads\n",
      "2019-03-29 11:40:33,348 : INFO : worker thread finished; awaiting finish of 3 more threads\n",
      "2019-03-29 11:40:33,352 : INFO : worker thread finished; awaiting finish of 2 more threads\n",
      "2019-03-29 11:40:33,354 : INFO : worker thread finished; awaiting finish of 1 more threads\n",
      "2019-03-29 11:40:33,360 : INFO : worker thread finished; awaiting finish of 0 more threads\n",
      "2019-03-29 11:40:33,362 : INFO : EPOCH - 62 : training on 86008 raw words (1776 effective words) took 0.0s, 55900 effective words/s\n",
      "2019-03-29 11:40:33,374 : INFO : worker thread finished; awaiting finish of 9 more threads\n"
     ]
    },
    {
     "name": "stderr",
     "output_type": "stream",
     "text": [
      "2019-03-29 11:40:33,387 : INFO : worker thread finished; awaiting finish of 8 more threads\n",
      "2019-03-29 11:40:33,397 : INFO : worker thread finished; awaiting finish of 7 more threads\n",
      "2019-03-29 11:40:33,401 : INFO : worker thread finished; awaiting finish of 6 more threads\n",
      "2019-03-29 11:40:33,403 : INFO : worker thread finished; awaiting finish of 5 more threads\n",
      "2019-03-29 11:40:33,405 : INFO : worker thread finished; awaiting finish of 4 more threads\n",
      "2019-03-29 11:40:33,407 : INFO : worker thread finished; awaiting finish of 3 more threads\n",
      "2019-03-29 11:40:33,408 : INFO : worker thread finished; awaiting finish of 2 more threads\n",
      "2019-03-29 11:40:33,410 : INFO : worker thread finished; awaiting finish of 1 more threads\n",
      "2019-03-29 11:40:33,411 : INFO : worker thread finished; awaiting finish of 0 more threads\n",
      "2019-03-29 11:40:33,412 : INFO : EPOCH - 63 : training on 86008 raw words (1785 effective words) took 0.0s, 42797 effective words/s\n",
      "2019-03-29 11:40:33,432 : INFO : worker thread finished; awaiting finish of 9 more threads\n",
      "2019-03-29 11:40:33,436 : INFO : worker thread finished; awaiting finish of 8 more threads\n",
      "2019-03-29 11:40:33,438 : INFO : worker thread finished; awaiting finish of 7 more threads\n",
      "2019-03-29 11:40:33,441 : INFO : worker thread finished; awaiting finish of 6 more threads\n",
      "2019-03-29 11:40:33,444 : INFO : worker thread finished; awaiting finish of 5 more threads\n",
      "2019-03-29 11:40:33,448 : INFO : worker thread finished; awaiting finish of 4 more threads\n",
      "2019-03-29 11:40:33,454 : INFO : worker thread finished; awaiting finish of 3 more threads\n",
      "2019-03-29 11:40:33,456 : INFO : worker thread finished; awaiting finish of 2 more threads\n",
      "2019-03-29 11:40:33,458 : INFO : worker thread finished; awaiting finish of 1 more threads\n",
      "2019-03-29 11:40:33,460 : INFO : worker thread finished; awaiting finish of 0 more threads\n",
      "2019-03-29 11:40:33,461 : INFO : EPOCH - 64 : training on 86008 raw words (1779 effective words) took 0.0s, 51821 effective words/s\n",
      "2019-03-29 11:40:33,486 : INFO : worker thread finished; awaiting finish of 9 more threads\n",
      "2019-03-29 11:40:33,491 : INFO : worker thread finished; awaiting finish of 8 more threads\n",
      "2019-03-29 11:40:33,496 : INFO : worker thread finished; awaiting finish of 7 more threads\n",
      "2019-03-29 11:40:33,499 : INFO : worker thread finished; awaiting finish of 6 more threads\n",
      "2019-03-29 11:40:33,504 : INFO : worker thread finished; awaiting finish of 5 more threads\n",
      "2019-03-29 11:40:33,510 : INFO : worker thread finished; awaiting finish of 4 more threads\n",
      "2019-03-29 11:40:33,516 : INFO : worker thread finished; awaiting finish of 3 more threads\n",
      "2019-03-29 11:40:33,517 : INFO : worker thread finished; awaiting finish of 2 more threads\n",
      "2019-03-29 11:40:33,518 : INFO : worker thread finished; awaiting finish of 1 more threads\n",
      "2019-03-29 11:40:33,519 : INFO : worker thread finished; awaiting finish of 0 more threads\n",
      "2019-03-29 11:40:33,520 : INFO : EPOCH - 65 : training on 86008 raw words (1757 effective words) took 0.0s, 36832 effective words/s\n",
      "2019-03-29 11:40:33,538 : INFO : worker thread finished; awaiting finish of 9 more threads\n",
      "2019-03-29 11:40:33,544 : INFO : worker thread finished; awaiting finish of 8 more threads\n",
      "2019-03-29 11:40:33,548 : INFO : worker thread finished; awaiting finish of 7 more threads\n",
      "2019-03-29 11:40:33,551 : INFO : worker thread finished; awaiting finish of 6 more threads\n",
      "2019-03-29 11:40:33,552 : INFO : worker thread finished; awaiting finish of 5 more threads\n",
      "2019-03-29 11:40:33,554 : INFO : worker thread finished; awaiting finish of 4 more threads\n",
      "2019-03-29 11:40:33,557 : INFO : worker thread finished; awaiting finish of 3 more threads\n",
      "2019-03-29 11:40:33,558 : INFO : worker thread finished; awaiting finish of 2 more threads\n",
      "2019-03-29 11:40:33,559 : INFO : worker thread finished; awaiting finish of 1 more threads\n",
      "2019-03-29 11:40:33,559 : INFO : worker thread finished; awaiting finish of 0 more threads\n",
      "2019-03-29 11:40:33,560 : INFO : EPOCH - 66 : training on 86008 raw words (1732 effective words) took 0.0s, 57973 effective words/s\n",
      "2019-03-29 11:40:33,572 : INFO : worker thread finished; awaiting finish of 9 more threads\n",
      "2019-03-29 11:40:33,586 : INFO : worker thread finished; awaiting finish of 8 more threads\n",
      "2019-03-29 11:40:33,598 : INFO : worker thread finished; awaiting finish of 7 more threads\n",
      "2019-03-29 11:40:33,606 : INFO : worker thread finished; awaiting finish of 6 more threads\n",
      "2019-03-29 11:40:33,608 : INFO : worker thread finished; awaiting finish of 5 more threads\n",
      "2019-03-29 11:40:33,611 : INFO : worker thread finished; awaiting finish of 4 more threads\n",
      "2019-03-29 11:40:33,613 : INFO : worker thread finished; awaiting finish of 3 more threads\n",
      "2019-03-29 11:40:33,614 : INFO : worker thread finished; awaiting finish of 2 more threads\n",
      "2019-03-29 11:40:33,617 : INFO : worker thread finished; awaiting finish of 1 more threads\n",
      "2019-03-29 11:40:33,619 : INFO : worker thread finished; awaiting finish of 0 more threads\n",
      "2019-03-29 11:40:33,620 : INFO : EPOCH - 67 : training on 86008 raw words (1762 effective words) took 0.1s, 34611 effective words/s\n",
      "2019-03-29 11:40:33,635 : INFO : worker thread finished; awaiting finish of 9 more threads\n",
      "2019-03-29 11:40:33,643 : INFO : worker thread finished; awaiting finish of 8 more threads\n",
      "2019-03-29 11:40:33,646 : INFO : worker thread finished; awaiting finish of 7 more threads\n",
      "2019-03-29 11:40:33,650 : INFO : worker thread finished; awaiting finish of 6 more threads\n",
      "2019-03-29 11:40:33,653 : INFO : worker thread finished; awaiting finish of 5 more threads\n",
      "2019-03-29 11:40:33,656 : INFO : worker thread finished; awaiting finish of 4 more threads\n",
      "2019-03-29 11:40:33,661 : INFO : worker thread finished; awaiting finish of 3 more threads\n",
      "2019-03-29 11:40:33,664 : INFO : worker thread finished; awaiting finish of 2 more threads\n",
      "2019-03-29 11:40:33,666 : INFO : worker thread finished; awaiting finish of 1 more threads\n",
      "2019-03-29 11:40:33,668 : INFO : worker thread finished; awaiting finish of 0 more threads\n",
      "2019-03-29 11:40:33,669 : INFO : EPOCH - 68 : training on 86008 raw words (1823 effective words) took 0.0s, 43927 effective words/s\n",
      "2019-03-29 11:40:33,707 : INFO : worker thread finished; awaiting finish of 9 more threads\n",
      "2019-03-29 11:40:33,712 : INFO : worker thread finished; awaiting finish of 8 more threads\n",
      "2019-03-29 11:40:33,716 : INFO : worker thread finished; awaiting finish of 7 more threads\n",
      "2019-03-29 11:40:33,721 : INFO : worker thread finished; awaiting finish of 6 more threads\n",
      "2019-03-29 11:40:33,726 : INFO : worker thread finished; awaiting finish of 5 more threads\n",
      "2019-03-29 11:40:33,729 : INFO : worker thread finished; awaiting finish of 4 more threads\n",
      "2019-03-29 11:40:33,733 : INFO : worker thread finished; awaiting finish of 3 more threads\n",
      "2019-03-29 11:40:33,737 : INFO : worker thread finished; awaiting finish of 2 more threads\n",
      "2019-03-29 11:40:33,739 : INFO : worker thread finished; awaiting finish of 1 more threads\n",
      "2019-03-29 11:40:33,743 : INFO : worker thread finished; awaiting finish of 0 more threads\n",
      "2019-03-29 11:40:33,744 : INFO : EPOCH - 69 : training on 86008 raw words (1815 effective words) took 0.0s, 39294 effective words/s\n",
      "2019-03-29 11:40:33,754 : INFO : worker thread finished; awaiting finish of 9 more threads\n",
      "2019-03-29 11:40:33,758 : INFO : worker thread finished; awaiting finish of 8 more threads\n",
      "2019-03-29 11:40:33,761 : INFO : worker thread finished; awaiting finish of 7 more threads\n",
      "2019-03-29 11:40:33,764 : INFO : worker thread finished; awaiting finish of 6 more threads\n",
      "2019-03-29 11:40:33,767 : INFO : worker thread finished; awaiting finish of 5 more threads\n",
      "2019-03-29 11:40:33,774 : INFO : worker thread finished; awaiting finish of 4 more threads\n",
      "2019-03-29 11:40:33,787 : INFO : worker thread finished; awaiting finish of 3 more threads\n",
      "2019-03-29 11:40:33,790 : INFO : worker thread finished; awaiting finish of 2 more threads\n",
      "2019-03-29 11:40:33,796 : INFO : worker thread finished; awaiting finish of 1 more threads\n",
      "2019-03-29 11:40:33,799 : INFO : worker thread finished; awaiting finish of 0 more threads\n",
      "2019-03-29 11:40:33,800 : INFO : EPOCH - 70 : training on 86008 raw words (1787 effective words) took 0.0s, 36401 effective words/s\n"
     ]
    },
    {
     "name": "stderr",
     "output_type": "stream",
     "text": [
      "2019-03-29 11:40:33,813 : INFO : worker thread finished; awaiting finish of 9 more threads\n",
      "2019-03-29 11:40:33,815 : INFO : worker thread finished; awaiting finish of 8 more threads\n",
      "2019-03-29 11:40:33,824 : INFO : worker thread finished; awaiting finish of 7 more threads\n",
      "2019-03-29 11:40:33,828 : INFO : worker thread finished; awaiting finish of 6 more threads\n",
      "2019-03-29 11:40:33,832 : INFO : worker thread finished; awaiting finish of 5 more threads\n",
      "2019-03-29 11:40:33,838 : INFO : worker thread finished; awaiting finish of 4 more threads\n",
      "2019-03-29 11:40:33,839 : INFO : worker thread finished; awaiting finish of 3 more threads\n",
      "2019-03-29 11:40:33,840 : INFO : worker thread finished; awaiting finish of 2 more threads\n",
      "2019-03-29 11:40:33,841 : INFO : worker thread finished; awaiting finish of 1 more threads\n",
      "2019-03-29 11:40:33,843 : INFO : worker thread finished; awaiting finish of 0 more threads\n",
      "2019-03-29 11:40:33,844 : INFO : EPOCH - 71 : training on 86008 raw words (1850 effective words) took 0.0s, 56434 effective words/s\n",
      "2019-03-29 11:40:33,860 : INFO : worker thread finished; awaiting finish of 9 more threads\n",
      "2019-03-29 11:40:33,865 : INFO : worker thread finished; awaiting finish of 8 more threads\n",
      "2019-03-29 11:40:33,867 : INFO : worker thread finished; awaiting finish of 7 more threads\n",
      "2019-03-29 11:40:33,871 : INFO : worker thread finished; awaiting finish of 6 more threads\n",
      "2019-03-29 11:40:33,880 : INFO : worker thread finished; awaiting finish of 5 more threads\n",
      "2019-03-29 11:40:33,882 : INFO : worker thread finished; awaiting finish of 4 more threads\n",
      "2019-03-29 11:40:33,884 : INFO : worker thread finished; awaiting finish of 3 more threads\n",
      "2019-03-29 11:40:33,903 : INFO : worker thread finished; awaiting finish of 2 more threads\n",
      "2019-03-29 11:40:33,909 : INFO : worker thread finished; awaiting finish of 1 more threads\n",
      "2019-03-29 11:40:33,911 : INFO : worker thread finished; awaiting finish of 0 more threads\n",
      "2019-03-29 11:40:33,913 : INFO : EPOCH - 72 : training on 86008 raw words (1758 effective words) took 0.1s, 32047 effective words/s\n",
      "2019-03-29 11:40:33,937 : INFO : worker thread finished; awaiting finish of 9 more threads\n",
      "2019-03-29 11:40:33,940 : INFO : worker thread finished; awaiting finish of 8 more threads\n",
      "2019-03-29 11:40:33,942 : INFO : worker thread finished; awaiting finish of 7 more threads\n",
      "2019-03-29 11:40:33,944 : INFO : worker thread finished; awaiting finish of 6 more threads\n",
      "2019-03-29 11:40:33,946 : INFO : worker thread finished; awaiting finish of 5 more threads\n",
      "2019-03-29 11:40:33,947 : INFO : worker thread finished; awaiting finish of 4 more threads\n",
      "2019-03-29 11:40:33,948 : INFO : worker thread finished; awaiting finish of 3 more threads\n",
      "2019-03-29 11:40:33,948 : INFO : worker thread finished; awaiting finish of 2 more threads\n",
      "2019-03-29 11:40:33,949 : INFO : worker thread finished; awaiting finish of 1 more threads\n",
      "2019-03-29 11:40:33,950 : INFO : worker thread finished; awaiting finish of 0 more threads\n",
      "2019-03-29 11:40:33,951 : INFO : EPOCH - 73 : training on 86008 raw words (1792 effective words) took 0.0s, 77060 effective words/s\n",
      "2019-03-29 11:40:33,991 : INFO : worker thread finished; awaiting finish of 9 more threads\n",
      "2019-03-29 11:40:34,000 : INFO : worker thread finished; awaiting finish of 8 more threads\n",
      "2019-03-29 11:40:34,004 : INFO : worker thread finished; awaiting finish of 7 more threads\n",
      "2019-03-29 11:40:34,010 : INFO : worker thread finished; awaiting finish of 6 more threads\n",
      "2019-03-29 11:40:34,012 : INFO : worker thread finished; awaiting finish of 5 more threads\n",
      "2019-03-29 11:40:34,015 : INFO : worker thread finished; awaiting finish of 4 more threads\n",
      "2019-03-29 11:40:34,018 : INFO : worker thread finished; awaiting finish of 3 more threads\n",
      "2019-03-29 11:40:34,020 : INFO : worker thread finished; awaiting finish of 2 more threads\n",
      "2019-03-29 11:40:34,026 : INFO : worker thread finished; awaiting finish of 1 more threads\n",
      "2019-03-29 11:40:34,028 : INFO : worker thread finished; awaiting finish of 0 more threads\n",
      "2019-03-29 11:40:34,031 : INFO : EPOCH - 74 : training on 86008 raw words (1765 effective words) took 0.1s, 28665 effective words/s\n",
      "2019-03-29 11:40:34,042 : INFO : worker thread finished; awaiting finish of 9 more threads\n",
      "2019-03-29 11:40:34,047 : INFO : worker thread finished; awaiting finish of 8 more threads\n",
      "2019-03-29 11:40:34,051 : INFO : worker thread finished; awaiting finish of 7 more threads\n",
      "2019-03-29 11:40:34,053 : INFO : worker thread finished; awaiting finish of 6 more threads\n",
      "2019-03-29 11:40:34,055 : INFO : worker thread finished; awaiting finish of 5 more threads\n",
      "2019-03-29 11:40:34,057 : INFO : worker thread finished; awaiting finish of 4 more threads\n",
      "2019-03-29 11:40:34,060 : INFO : worker thread finished; awaiting finish of 3 more threads\n",
      "2019-03-29 11:40:34,061 : INFO : worker thread finished; awaiting finish of 2 more threads\n",
      "2019-03-29 11:40:34,061 : INFO : worker thread finished; awaiting finish of 1 more threads\n",
      "2019-03-29 11:40:34,062 : INFO : worker thread finished; awaiting finish of 0 more threads\n",
      "2019-03-29 11:40:34,064 : INFO : EPOCH - 75 : training on 86008 raw words (1782 effective words) took 0.0s, 73407 effective words/s\n",
      "2019-03-29 11:40:34,097 : INFO : worker thread finished; awaiting finish of 9 more threads\n",
      "2019-03-29 11:40:34,101 : INFO : worker thread finished; awaiting finish of 8 more threads\n",
      "2019-03-29 11:40:34,106 : INFO : worker thread finished; awaiting finish of 7 more threads\n",
      "2019-03-29 11:40:34,111 : INFO : worker thread finished; awaiting finish of 6 more threads\n",
      "2019-03-29 11:40:34,113 : INFO : worker thread finished; awaiting finish of 5 more threads\n",
      "2019-03-29 11:40:34,116 : INFO : worker thread finished; awaiting finish of 4 more threads\n",
      "2019-03-29 11:40:34,122 : INFO : worker thread finished; awaiting finish of 3 more threads\n",
      "2019-03-29 11:40:34,124 : INFO : worker thread finished; awaiting finish of 2 more threads\n",
      "2019-03-29 11:40:34,127 : INFO : worker thread finished; awaiting finish of 1 more threads\n",
      "2019-03-29 11:40:34,129 : INFO : worker thread finished; awaiting finish of 0 more threads\n",
      "2019-03-29 11:40:34,130 : INFO : EPOCH - 76 : training on 86008 raw words (1832 effective words) took 0.0s, 49447 effective words/s\n",
      "2019-03-29 11:40:34,152 : INFO : worker thread finished; awaiting finish of 9 more threads\n",
      "2019-03-29 11:40:34,160 : INFO : worker thread finished; awaiting finish of 8 more threads\n",
      "2019-03-29 11:40:34,163 : INFO : worker thread finished; awaiting finish of 7 more threads\n",
      "2019-03-29 11:40:34,168 : INFO : worker thread finished; awaiting finish of 6 more threads\n",
      "2019-03-29 11:40:34,170 : INFO : worker thread finished; awaiting finish of 5 more threads\n",
      "2019-03-29 11:40:34,172 : INFO : worker thread finished; awaiting finish of 4 more threads\n",
      "2019-03-29 11:40:34,175 : INFO : worker thread finished; awaiting finish of 3 more threads\n",
      "2019-03-29 11:40:34,180 : INFO : worker thread finished; awaiting finish of 2 more threads\n",
      "2019-03-29 11:40:34,187 : INFO : worker thread finished; awaiting finish of 1 more threads\n",
      "2019-03-29 11:40:34,190 : INFO : worker thread finished; awaiting finish of 0 more threads\n",
      "2019-03-29 11:40:34,197 : INFO : EPOCH - 77 : training on 86008 raw words (1780 effective words) took 0.0s, 37370 effective words/s\n",
      "2019-03-29 11:40:34,218 : INFO : worker thread finished; awaiting finish of 9 more threads\n",
      "2019-03-29 11:40:34,222 : INFO : worker thread finished; awaiting finish of 8 more threads\n",
      "2019-03-29 11:40:34,224 : INFO : worker thread finished; awaiting finish of 7 more threads\n",
      "2019-03-29 11:40:34,226 : INFO : worker thread finished; awaiting finish of 6 more threads\n",
      "2019-03-29 11:40:34,228 : INFO : worker thread finished; awaiting finish of 5 more threads\n",
      "2019-03-29 11:40:34,228 : INFO : worker thread finished; awaiting finish of 4 more threads\n",
      "2019-03-29 11:40:34,229 : INFO : worker thread finished; awaiting finish of 3 more threads\n",
      "2019-03-29 11:40:34,230 : INFO : worker thread finished; awaiting finish of 2 more threads\n",
      "2019-03-29 11:40:34,231 : INFO : worker thread finished; awaiting finish of 1 more threads\n",
      "2019-03-29 11:40:34,232 : INFO : worker thread finished; awaiting finish of 0 more threads\n"
     ]
    },
    {
     "name": "stderr",
     "output_type": "stream",
     "text": [
      "2019-03-29 11:40:34,233 : INFO : EPOCH - 78 : training on 86008 raw words (1804 effective words) took 0.0s, 80991 effective words/s\n",
      "2019-03-29 11:40:34,248 : INFO : worker thread finished; awaiting finish of 9 more threads\n",
      "2019-03-29 11:40:34,259 : INFO : worker thread finished; awaiting finish of 8 more threads\n",
      "2019-03-29 11:40:34,261 : INFO : worker thread finished; awaiting finish of 7 more threads\n",
      "2019-03-29 11:40:34,263 : INFO : worker thread finished; awaiting finish of 6 more threads\n",
      "2019-03-29 11:40:34,265 : INFO : worker thread finished; awaiting finish of 5 more threads\n",
      "2019-03-29 11:40:34,272 : INFO : worker thread finished; awaiting finish of 4 more threads\n",
      "2019-03-29 11:40:34,275 : INFO : worker thread finished; awaiting finish of 3 more threads\n",
      "2019-03-29 11:40:34,288 : INFO : worker thread finished; awaiting finish of 2 more threads\n",
      "2019-03-29 11:40:34,293 : INFO : worker thread finished; awaiting finish of 1 more threads\n",
      "2019-03-29 11:40:34,298 : INFO : worker thread finished; awaiting finish of 0 more threads\n",
      "2019-03-29 11:40:34,299 : INFO : EPOCH - 79 : training on 86008 raw words (1789 effective words) took 0.1s, 33093 effective words/s\n",
      "2019-03-29 11:40:34,314 : INFO : worker thread finished; awaiting finish of 9 more threads\n",
      "2019-03-29 11:40:34,319 : INFO : worker thread finished; awaiting finish of 8 more threads\n",
      "2019-03-29 11:40:34,321 : INFO : worker thread finished; awaiting finish of 7 more threads\n",
      "2019-03-29 11:40:34,324 : INFO : worker thread finished; awaiting finish of 6 more threads\n",
      "2019-03-29 11:40:34,328 : INFO : worker thread finished; awaiting finish of 5 more threads\n",
      "2019-03-29 11:40:34,331 : INFO : worker thread finished; awaiting finish of 4 more threads\n",
      "2019-03-29 11:40:34,334 : INFO : worker thread finished; awaiting finish of 3 more threads\n",
      "2019-03-29 11:40:34,336 : INFO : worker thread finished; awaiting finish of 2 more threads\n",
      "2019-03-29 11:40:34,338 : INFO : worker thread finished; awaiting finish of 1 more threads\n",
      "2019-03-29 11:40:34,339 : INFO : worker thread finished; awaiting finish of 0 more threads\n",
      "2019-03-29 11:40:34,339 : INFO : EPOCH - 80 : training on 86008 raw words (1763 effective words) took 0.0s, 59820 effective words/s\n",
      "2019-03-29 11:40:34,362 : INFO : worker thread finished; awaiting finish of 9 more threads\n",
      "2019-03-29 11:40:34,366 : INFO : worker thread finished; awaiting finish of 8 more threads\n",
      "2019-03-29 11:40:34,368 : INFO : worker thread finished; awaiting finish of 7 more threads\n",
      "2019-03-29 11:40:34,369 : INFO : worker thread finished; awaiting finish of 6 more threads\n",
      "2019-03-29 11:40:34,370 : INFO : worker thread finished; awaiting finish of 5 more threads\n",
      "2019-03-29 11:40:34,371 : INFO : worker thread finished; awaiting finish of 4 more threads\n",
      "2019-03-29 11:40:34,377 : INFO : worker thread finished; awaiting finish of 3 more threads\n",
      "2019-03-29 11:40:34,382 : INFO : worker thread finished; awaiting finish of 2 more threads\n",
      "2019-03-29 11:40:34,401 : INFO : worker thread finished; awaiting finish of 1 more threads\n",
      "2019-03-29 11:40:34,403 : INFO : worker thread finished; awaiting finish of 0 more threads\n",
      "2019-03-29 11:40:34,405 : INFO : EPOCH - 81 : training on 86008 raw words (1803 effective words) took 0.1s, 32130 effective words/s\n",
      "2019-03-29 11:40:34,420 : INFO : worker thread finished; awaiting finish of 9 more threads\n",
      "2019-03-29 11:40:34,427 : INFO : worker thread finished; awaiting finish of 8 more threads\n",
      "2019-03-29 11:40:34,429 : INFO : worker thread finished; awaiting finish of 7 more threads\n",
      "2019-03-29 11:40:34,431 : INFO : worker thread finished; awaiting finish of 6 more threads\n",
      "2019-03-29 11:40:34,433 : INFO : worker thread finished; awaiting finish of 5 more threads\n",
      "2019-03-29 11:40:34,437 : INFO : worker thread finished; awaiting finish of 4 more threads\n",
      "2019-03-29 11:40:34,439 : INFO : worker thread finished; awaiting finish of 3 more threads\n",
      "2019-03-29 11:40:34,441 : INFO : worker thread finished; awaiting finish of 2 more threads\n",
      "2019-03-29 11:40:34,446 : INFO : worker thread finished; awaiting finish of 1 more threads\n",
      "2019-03-29 11:40:34,449 : INFO : worker thread finished; awaiting finish of 0 more threads\n",
      "2019-03-29 11:40:34,451 : INFO : EPOCH - 82 : training on 86008 raw words (1750 effective words) took 0.0s, 48042 effective words/s\n",
      "2019-03-29 11:40:34,462 : INFO : worker thread finished; awaiting finish of 9 more threads\n",
      "2019-03-29 11:40:34,468 : INFO : worker thread finished; awaiting finish of 8 more threads\n",
      "2019-03-29 11:40:34,471 : INFO : worker thread finished; awaiting finish of 7 more threads\n",
      "2019-03-29 11:40:34,476 : INFO : worker thread finished; awaiting finish of 6 more threads\n",
      "2019-03-29 11:40:34,478 : INFO : worker thread finished; awaiting finish of 5 more threads\n",
      "2019-03-29 11:40:34,479 : INFO : worker thread finished; awaiting finish of 4 more threads\n",
      "2019-03-29 11:40:34,490 : INFO : worker thread finished; awaiting finish of 3 more threads\n",
      "2019-03-29 11:40:34,497 : INFO : worker thread finished; awaiting finish of 2 more threads\n",
      "2019-03-29 11:40:34,499 : INFO : worker thread finished; awaiting finish of 1 more threads\n",
      "2019-03-29 11:40:34,504 : INFO : worker thread finished; awaiting finish of 0 more threads\n",
      "2019-03-29 11:40:34,507 : INFO : EPOCH - 83 : training on 86008 raw words (1764 effective words) took 0.0s, 37387 effective words/s\n",
      "2019-03-29 11:40:34,522 : INFO : worker thread finished; awaiting finish of 9 more threads\n",
      "2019-03-29 11:40:34,527 : INFO : worker thread finished; awaiting finish of 8 more threads\n",
      "2019-03-29 11:40:34,532 : INFO : worker thread finished; awaiting finish of 7 more threads\n",
      "2019-03-29 11:40:34,537 : INFO : worker thread finished; awaiting finish of 6 more threads\n",
      "2019-03-29 11:40:34,544 : INFO : worker thread finished; awaiting finish of 5 more threads\n",
      "2019-03-29 11:40:34,548 : INFO : worker thread finished; awaiting finish of 4 more threads\n",
      "2019-03-29 11:40:34,552 : INFO : worker thread finished; awaiting finish of 3 more threads\n",
      "2019-03-29 11:40:34,554 : INFO : worker thread finished; awaiting finish of 2 more threads\n",
      "2019-03-29 11:40:34,556 : INFO : worker thread finished; awaiting finish of 1 more threads\n",
      "2019-03-29 11:40:34,557 : INFO : worker thread finished; awaiting finish of 0 more threads\n",
      "2019-03-29 11:40:34,557 : INFO : EPOCH - 84 : training on 86008 raw words (1780 effective words) took 0.0s, 50113 effective words/s\n",
      "2019-03-29 11:40:34,571 : INFO : worker thread finished; awaiting finish of 9 more threads\n",
      "2019-03-29 11:40:34,585 : INFO : worker thread finished; awaiting finish of 8 more threads\n",
      "2019-03-29 11:40:34,591 : INFO : worker thread finished; awaiting finish of 7 more threads\n",
      "2019-03-29 11:40:34,598 : INFO : worker thread finished; awaiting finish of 6 more threads\n",
      "2019-03-29 11:40:34,601 : INFO : worker thread finished; awaiting finish of 5 more threads\n",
      "2019-03-29 11:40:34,603 : INFO : worker thread finished; awaiting finish of 4 more threads\n",
      "2019-03-29 11:40:34,607 : INFO : worker thread finished; awaiting finish of 3 more threads\n",
      "2019-03-29 11:40:34,613 : INFO : worker thread finished; awaiting finish of 2 more threads\n",
      "2019-03-29 11:40:34,616 : INFO : worker thread finished; awaiting finish of 1 more threads\n",
      "2019-03-29 11:40:34,617 : INFO : worker thread finished; awaiting finish of 0 more threads\n",
      "2019-03-29 11:40:34,618 : INFO : EPOCH - 85 : training on 86008 raw words (1783 effective words) took 0.0s, 36607 effective words/s\n",
      "2019-03-29 11:40:34,628 : INFO : worker thread finished; awaiting finish of 9 more threads\n",
      "2019-03-29 11:40:34,633 : INFO : worker thread finished; awaiting finish of 8 more threads\n",
      "2019-03-29 11:40:34,635 : INFO : worker thread finished; awaiting finish of 7 more threads\n",
      "2019-03-29 11:40:34,638 : INFO : worker thread finished; awaiting finish of 6 more threads\n",
      "2019-03-29 11:40:34,644 : INFO : worker thread finished; awaiting finish of 5 more threads\n",
      "2019-03-29 11:40:34,650 : INFO : worker thread finished; awaiting finish of 4 more threads\n",
      "2019-03-29 11:40:34,654 : INFO : worker thread finished; awaiting finish of 3 more threads\n",
      "2019-03-29 11:40:34,657 : INFO : worker thread finished; awaiting finish of 2 more threads\n",
      "2019-03-29 11:40:34,659 : INFO : worker thread finished; awaiting finish of 1 more threads\n"
     ]
    },
    {
     "name": "stderr",
     "output_type": "stream",
     "text": [
      "2019-03-29 11:40:34,660 : INFO : worker thread finished; awaiting finish of 0 more threads\n",
      "2019-03-29 11:40:34,662 : INFO : EPOCH - 86 : training on 86008 raw words (1778 effective words) took 0.0s, 48993 effective words/s\n",
      "2019-03-29 11:40:34,692 : INFO : worker thread finished; awaiting finish of 9 more threads\n",
      "2019-03-29 11:40:34,707 : INFO : worker thread finished; awaiting finish of 8 more threads\n",
      "2019-03-29 11:40:34,713 : INFO : worker thread finished; awaiting finish of 7 more threads\n",
      "2019-03-29 11:40:34,716 : INFO : worker thread finished; awaiting finish of 6 more threads\n",
      "2019-03-29 11:40:34,721 : INFO : worker thread finished; awaiting finish of 5 more threads\n",
      "2019-03-29 11:40:34,723 : INFO : worker thread finished; awaiting finish of 4 more threads\n",
      "2019-03-29 11:40:34,724 : INFO : worker thread finished; awaiting finish of 3 more threads\n",
      "2019-03-29 11:40:34,726 : INFO : worker thread finished; awaiting finish of 2 more threads\n",
      "2019-03-29 11:40:34,728 : INFO : worker thread finished; awaiting finish of 1 more threads\n",
      "2019-03-29 11:40:34,729 : INFO : worker thread finished; awaiting finish of 0 more threads\n",
      "2019-03-29 11:40:34,730 : INFO : EPOCH - 87 : training on 86008 raw words (1776 effective words) took 0.0s, 44091 effective words/s\n",
      "2019-03-29 11:40:34,745 : INFO : worker thread finished; awaiting finish of 9 more threads\n",
      "2019-03-29 11:40:34,748 : INFO : worker thread finished; awaiting finish of 8 more threads\n",
      "2019-03-29 11:40:34,753 : INFO : worker thread finished; awaiting finish of 7 more threads\n",
      "2019-03-29 11:40:34,757 : INFO : worker thread finished; awaiting finish of 6 more threads\n",
      "2019-03-29 11:40:34,760 : INFO : worker thread finished; awaiting finish of 5 more threads\n",
      "2019-03-29 11:40:34,762 : INFO : worker thread finished; awaiting finish of 4 more threads\n",
      "2019-03-29 11:40:34,764 : INFO : worker thread finished; awaiting finish of 3 more threads\n",
      "2019-03-29 11:40:34,770 : INFO : worker thread finished; awaiting finish of 2 more threads\n",
      "2019-03-29 11:40:34,774 : INFO : worker thread finished; awaiting finish of 1 more threads\n",
      "2019-03-29 11:40:34,778 : INFO : worker thread finished; awaiting finish of 0 more threads\n",
      "2019-03-29 11:40:34,780 : INFO : EPOCH - 88 : training on 86008 raw words (1760 effective words) took 0.0s, 45864 effective words/s\n",
      "2019-03-29 11:40:34,827 : INFO : worker thread finished; awaiting finish of 9 more threads\n",
      "2019-03-29 11:40:34,831 : INFO : worker thread finished; awaiting finish of 8 more threads\n",
      "2019-03-29 11:40:34,837 : INFO : worker thread finished; awaiting finish of 7 more threads\n",
      "2019-03-29 11:40:34,841 : INFO : worker thread finished; awaiting finish of 6 more threads\n",
      "2019-03-29 11:40:34,843 : INFO : worker thread finished; awaiting finish of 5 more threads\n",
      "2019-03-29 11:40:34,845 : INFO : worker thread finished; awaiting finish of 4 more threads\n",
      "2019-03-29 11:40:34,848 : INFO : worker thread finished; awaiting finish of 3 more threads\n",
      "2019-03-29 11:40:34,850 : INFO : worker thread finished; awaiting finish of 2 more threads\n",
      "2019-03-29 11:40:34,852 : INFO : worker thread finished; awaiting finish of 1 more threads\n",
      "2019-03-29 11:40:34,853 : INFO : worker thread finished; awaiting finish of 0 more threads\n",
      "2019-03-29 11:40:34,858 : INFO : EPOCH - 89 : training on 86008 raw words (1757 effective words) took 0.0s, 51422 effective words/s\n",
      "2019-03-29 11:40:34,875 : INFO : worker thread finished; awaiting finish of 9 more threads\n",
      "2019-03-29 11:40:34,881 : INFO : worker thread finished; awaiting finish of 8 more threads\n",
      "2019-03-29 11:40:34,891 : INFO : worker thread finished; awaiting finish of 7 more threads\n",
      "2019-03-29 11:40:34,911 : INFO : worker thread finished; awaiting finish of 6 more threads\n",
      "2019-03-29 11:40:34,916 : INFO : worker thread finished; awaiting finish of 5 more threads\n",
      "2019-03-29 11:40:34,918 : INFO : worker thread finished; awaiting finish of 4 more threads\n",
      "2019-03-29 11:40:34,920 : INFO : worker thread finished; awaiting finish of 3 more threads\n",
      "2019-03-29 11:40:34,922 : INFO : worker thread finished; awaiting finish of 2 more threads\n",
      "2019-03-29 11:40:34,934 : INFO : worker thread finished; awaiting finish of 1 more threads\n",
      "2019-03-29 11:40:34,938 : INFO : worker thread finished; awaiting finish of 0 more threads\n",
      "2019-03-29 11:40:34,942 : INFO : EPOCH - 90 : training on 86008 raw words (1751 effective words) took 0.1s, 24437 effective words/s\n",
      "2019-03-29 11:40:34,944 : INFO : training on a 7740720 raw words (160654 effective words) took 5.3s, 30577 effective words/s\n"
     ]
    }
   ],
   "source": [
    "documents = songs.tolist()\n",
    "# 当前词汇与预测词汇的最远距离。\n",
    "window_size=7\n",
    "# 训练迭代的轮数（epoch的数量）。\n",
    "it=90\n",
    "# 配置高频词汇进行随机下采样的阈值。\n",
    "sample=0.001 \n",
    "# 初始的学习率。\n",
    "power_alpha=-0.5\n",
    "# 词嵌入的维度。\n",
    "size_embedding=50\n",
    "# 如果大于0，将使用负采样。该值指定负采样时，选择噪声词的个数。\n",
    "# 如果为0，则不使用负采样。\n",
    "neg_sample=5\n",
    "# 训练所使用的最大线程数。\n",
    "workers=10\n",
    "# 设置参与训练词汇的最低频率。\n",
    "min_count=10\n",
    "#sg 0 == cbow\n",
    "#sg1 == skip gram\n",
    "# sg_type=1\n",
    "\n",
    "model = gensim.models.Word2Vec(documents[:1000], size=size_embedding, window=window_size,\n",
    "                 min_count=min_count, workers=workers, sg=1, iter=it,\n",
    "                 sample=sample, negative=neg_sample, alpha=power_alpha)\n",
    "\n",
    "# 模型支持增量的方式继续训练。\n",
    "# model.train(train,total_examples=len(train), epochs=model.iter)"
   ]
  },
  {
   "cell_type": "markdown",
   "metadata": {},
   "source": [
    "### 使用模型进行预测"
   ]
  },
  {
   "cell_type": "code",
   "execution_count": 44,
   "metadata": {},
   "outputs": [
    {
     "data": {
      "text/plain": [
       "0.9999455"
      ]
     },
     "execution_count": 44,
     "metadata": {},
     "output_type": "execute_result"
    }
   ],
   "source": [
    "# model.wv.vocab\n",
    "# model.wv.vectors\n",
    "# model.wv.most_similar(\"ed sheeran - thinking out loud\", topn=5)\n",
    "# model.wv.most_similar(positive=[\"ed sheeran - thinking out loud\"], negative=[\"talking heads - and she was\"], topn=5)\n",
    "# model.wv.similarity(\"ed sheeran - thinking out loud\", \"talking heads - and she was\")"
   ]
  },
  {
   "cell_type": "markdown",
   "metadata": {},
   "source": [
    "### 保存与载入模型"
   ]
  },
  {
   "cell_type": "code",
   "execution_count": 6,
   "metadata": {},
   "outputs": [
    {
     "data": {
      "text/plain": [
       "100"
      ]
     },
     "execution_count": 6,
     "metadata": {},
     "output_type": "execute_result"
    }
   ],
   "source": [
    "# model.save(path)\n",
    "model = gensim.models.Word2Vec.load(\"word2vec.model\")"
   ]
  },
  {
   "cell_type": "markdown",
   "metadata": {},
   "source": [
    "## 词嵌入可视化"
   ]
  },
  {
   "cell_type": "code",
   "execution_count": 47,
   "metadata": {},
   "outputs": [],
   "source": [
    "# 进行降维，参数指定降维的维数。\n",
    "tsne = TSNE(n_components=2)\n",
    "# 获取所有词汇标签。\n",
    "y = list(model.wv.vocab.keys())\n",
    "# 取部分词汇标签，进行可视化展示。\n",
    "y = y[:30]\n",
    "# 根据词获取嵌入向量。\n",
    "X = model.wv[y]\n",
    "# 进行降维转换。\n",
    "X_tsne = tsne.fit_transform(X)"
   ]
  },
  {
   "cell_type": "code",
   "execution_count": 49,
   "metadata": {},
   "outputs": [
    {
     "data": {
      "text/plain": [
       "(30, 2)"
      ]
     },
     "execution_count": 49,
     "metadata": {},
     "output_type": "execute_result"
    }
   ],
   "source": [
    "X_tsne.shape"
   ]
  },
  {
   "cell_type": "code",
   "execution_count": 50,
   "metadata": {},
   "outputs": [
    {
     "data": {
      "image/png": "[encoded data removed]",
      "text/plain": [
       "<Figure size 1152x1152 with 1 Axes>"
      ]
     },
     "metadata": {
      "needs_background": "light"
     },
     "output_type": "display_data"
    }
   ],
   "source": [
    "def label_format(label, condition=0):\n",
    "    if condition == 1:\n",
    "        return label.split(\"-\", 1)[0]\n",
    "    elif condition == 2:\n",
    "        return label.split(\"-\", 1)[1]\n",
    "    else:\n",
    "        return label\n",
    "\n",
    "\n",
    "plt.figure(figsize=(16, 16)) \n",
    "\n",
    "for i in range(len(X_tsne)):\n",
    "    plt.scatter(X_tsne[i,0],X_tsne[i,1])\n",
    "    # 在散点上打上标签（单词的文本）\n",
    "    plt.annotate(label_format(y[i], 2),\n",
    "                 xy=(X_tsne[i,0],X_tsne[i,1]),\n",
    "                 xytext=(5, 2),\n",
    "                 textcoords='offset points',\n",
    "                 ha='right',\n",
    "                 va='bottom')\n",
    "plt.show()"
   ]
  }
 ],
 "metadata": {
  "kernelspec": {
   "display_name": "Python 3",
   "language": "python",
   "name": "python3"
  },
  "language_info": {
   "codemirror_mode": {
    "name": "ipython",
    "version": 3
   },
   "file_extension": ".py",
   "mimetype": "text/x-python",
   "name": "python",
   "nbconvert_exporter": "python",
   "pygments_lexer": "ipython3",
   "version": "3.7.1"
  }
 },
 "nbformat": 4,
 "nbformat_minor": 2
}
